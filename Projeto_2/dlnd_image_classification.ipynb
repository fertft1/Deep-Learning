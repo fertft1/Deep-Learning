{
 "cells": [
  {
   "cell_type": "markdown",
   "metadata": {
    "collapsed": true,
    "deletable": true,
    "editable": true
   },
   "source": [
    "# Image Classification\n",
    "In this project, you'll classify images from the [CIFAR-10 dataset](https://www.cs.toronto.edu/~kriz/cifar.html).  The dataset consists of airplanes, dogs, cats, and other objects. You'll preprocess the images, then train a convolutional neural network on all the samples. The images need to be normalized and the labels need to be one-hot encoded.  You'll get to apply what you learned and build a convolutional, max pooling, dropout, and fully connected layers.  At the end, you'll get to see your neural network's predictions on the sample images.\n",
    "## Get the Data\n",
    "Run the following cell to download the [CIFAR-10 dataset for python](https://www.cs.toronto.edu/~kriz/cifar-10-python.tar.gz)."
   ]
  },
  {
   "cell_type": "code",
   "execution_count": 3,
   "metadata": {
    "collapsed": false,
    "deletable": true,
    "editable": true
   },
   "outputs": [
    {
     "name": "stderr",
     "output_type": "stream",
     "text": [
      "CIFAR-10 Dataset: 171MB [00:18, 9.20MB/s]                              \n"
     ]
    },
    {
     "name": "stdout",
     "output_type": "stream",
     "text": [
      "All files found!\n"
     ]
    }
   ],
   "source": [
    "\"\"\"\n",
    "DON'T MODIFY ANYTHING IN THIS CELL THAT IS BELOW THIS LINE\n",
    "\"\"\"\n",
    "from urllib.request import urlretrieve\n",
    "from os.path import isfile, isdir\n",
    "from tqdm import tqdm\n",
    "import problem_unittests as tests\n",
    "import tarfile\n",
    "\n",
    "cifar10_dataset_folder_path = 'cifar-10-batches-py'\n",
    "\n",
    "class DLProgress(tqdm):\n",
    "    last_block = 0\n",
    "\n",
    "    def hook(self, block_num=1, block_size=1, total_size=None):\n",
    "        self.total = total_size\n",
    "        self.update((block_num - self.last_block) * block_size)\n",
    "        self.last_block = block_num\n",
    "\n",
    "if not isfile('cifar-10-python.tar.gz'):\n",
    "    with DLProgress(unit='B', unit_scale=True, miniters=1, desc='CIFAR-10 Dataset') as pbar:\n",
    "        urlretrieve(\n",
    "            'https://www.cs.toronto.edu/~kriz/cifar-10-python.tar.gz',\n",
    "            'cifar-10-python.tar.gz',\n",
    "            pbar.hook)\n",
    "\n",
    "if not isdir(cifar10_dataset_folder_path):\n",
    "    with tarfile.open('cifar-10-python.tar.gz') as tar:\n",
    "        tar.extractall()\n",
    "        tar.close()\n",
    "\n",
    "\n",
    "tests.test_folder_path(cifar10_dataset_folder_path)"
   ]
  },
  {
   "cell_type": "markdown",
   "metadata": {
    "deletable": true,
    "editable": true
   },
   "source": [
    "## Explore the Data\n",
    "The dataset is broken into batches to prevent your machine from running out of memory.  The CIFAR-10 dataset consists of 5 batches, named `data_batch_1`, `data_batch_2`, etc.. Each batch contains the labels and images that are one of the following:\n",
    "* airplane\n",
    "* automobile\n",
    "* bird\n",
    "* cat\n",
    "* deer\n",
    "* dog\n",
    "* frog\n",
    "* horse\n",
    "* ship\n",
    "* truck\n",
    "\n",
    "Understanding a dataset is part of making predictions on the data.  Play around with the code cell below by changing the `batch_id` and `sample_id`. The `batch_id` is the id for a batch (1-5). The `sample_id` is the id for a image and label pair in the batch.\n",
    "\n",
    "Ask yourself \"What are all possible labels?\", \"What is the range of values for the image data?\", \"Are the labels in order or random?\".  Answers to questions like these will help you preprocess the data and end up with better predictions."
   ]
  },
  {
   "cell_type": "code",
   "execution_count": 4,
   "metadata": {
    "collapsed": false,
    "deletable": true,
    "editable": true
   },
   "outputs": [
    {
     "name": "stdout",
     "output_type": "stream",
     "text": [
      "\n",
      "Stats of batch 1:\n",
      "Samples: 10000\n",
      "Label Counts: {0: 1005, 1: 974, 2: 1032, 3: 1016, 4: 999, 5: 937, 6: 1030, 7: 1001, 8: 1025, 9: 981}\n",
      "First 20 Labels: [6, 9, 9, 4, 1, 1, 2, 7, 8, 3, 4, 7, 7, 2, 9, 9, 9, 3, 2, 6]\n",
      "\n",
      "Example of Image 5:\n",
      "Image - Min Value: 0 Max Value: 252\n",
      "Image - Shape: (32, 32, 3)\n",
      "Label - Label Id: 1 Name: automobile\n"
     ]
    },
    {
     "data": {
      "image/png": "[encoded data removed]",
      "text/plain": [
       "<matplotlib.figure.Figure at 0x7ff276ed5518>"
      ]
     },
     "metadata": {
      "image/png": {
       "height": 250,
       "width": 253
      }
     },
     "output_type": "display_data"
    }
   ],
   "source": [
    "%matplotlib inline\n",
    "%config InlineBackend.figure_format = 'retina'\n",
    "\n",
    "import helper\n",
    "import numpy as np\n",
    "\n",
    "# Explore the dataset\n",
    "batch_id = 1\n",
    "sample_id = 5\n",
    "helper.display_stats(cifar10_dataset_folder_path, batch_id, sample_id)"
   ]
  },
  {
   "cell_type": "markdown",
   "metadata": {
    "deletable": true,
    "editable": true
   },
   "source": [
    "## Implement Preprocess Functions\n",
    "### Normalize\n",
    "In the cell below, implement the `normalize` function to take in image data, `x`, and return it as a normalized Numpy array. The values should be in the range of 0 to 1, inclusive.  The return object should be the same shape as `x`."
   ]
  },
  {
   "cell_type": "code",
   "execution_count": 7,
   "metadata": {
    "collapsed": false,
    "deletable": true,
    "editable": true
   },
   "outputs": [
    {
     "name": "stdout",
     "output_type": "stream",
     "text": [
      "Tests Passed\n"
     ]
    }
   ],
   "source": [
    "def normalize(x):\n",
    "    \"\"\"\n",
    "    Normalize a list of sample image data in the range of 0 to 1\n",
    "    : x: List of image data.  The image shape is (32, 32, 3)\n",
    "    : return: Numpy array of normalize data\n",
    "    \"\"\"\n",
    "    data = np.array(x)/255\n",
    "    \n",
    "    return data\n",
    "\n",
    "\n",
    "\"\"\"\n",
    "DON'T MODIFY ANYTHING IN THIS CELL THAT IS BELOW THIS LINE\n",
    "\"\"\"\n",
    "tests.test_normalize(normalize)"
   ]
  },
  {
   "cell_type": "markdown",
   "metadata": {
    "deletable": true,
    "editable": true
   },
   "source": [
    "### One-hot encode\n",
    "Just like the previous code cell, you'll be implementing a function for preprocessing.  This time, you'll implement the `one_hot_encode` function. The input, `x`, are a list of labels.  Implement the function to return the list of labels as One-Hot encoded Numpy array.  The possible values for labels are 0 to 9. The one-hot encoding function should return the same encoding for each value between each call to `one_hot_encode`.  Make sure to save the map of encodings outside the function.\n",
    "\n",
    "Hint: Don't reinvent the wheel."
   ]
  },
  {
   "cell_type": "code",
   "execution_count": 8,
   "metadata": {
    "collapsed": false,
    "deletable": true,
    "editable": true
   },
   "outputs": [
    {
     "name": "stdout",
     "output_type": "stream",
     "text": [
      "Tests Passed\n"
     ]
    }
   ],
   "source": [
    "def one_hot_encode(x):\n",
    "    \"\"\"\n",
    "    One hot encode a list of sample labels. Return a one-hot encoded vector for each label.\n",
    "    : x: List of sample Labels\n",
    "    : return: Numpy array of one-hot encoded labels\n",
    "    \"\"\"\n",
    "    from sklearn.preprocessing import label_binarize\n",
    "    return label_binarize(x,classes= range(10))\n",
    "\n",
    "\"\"\"\n",
    "DON'T MODIFY ANYTHING IN THIS CELL THAT IS BELOW THIS LINE\n",
    "\"\"\"\n",
    "tests.test_one_hot_encode(one_hot_encode)"
   ]
  },
  {
   "cell_type": "markdown",
   "metadata": {
    "deletable": true,
    "editable": true
   },
   "source": [
    "### Randomize Data\n",
    "As you saw from exploring the data above, the order of the samples are randomized.  It doesn't hurt to randomize it again, but you don't need to for this dataset."
   ]
  },
  {
   "cell_type": "markdown",
   "metadata": {
    "deletable": true,
    "editable": true
   },
   "source": [
    "## Preprocess all the data and save it\n",
    "Running the code cell below will preprocess all the CIFAR-10 data and save it to file. The code below also uses 10% of the training data for validation."
   ]
  },
  {
   "cell_type": "code",
   "execution_count": 9,
   "metadata": {
    "collapsed": false,
    "deletable": true,
    "editable": true
   },
   "outputs": [],
   "source": [
    "\"\"\"\n",
    "DON'T MODIFY ANYTHING IN THIS CELL\n",
    "\"\"\"\n",
    "# Preprocess Training, Validation, and Testing Data\n",
    "helper.preprocess_and_save_data(cifar10_dataset_folder_path, normalize, one_hot_encode)"
   ]
  },
  {
   "cell_type": "markdown",
   "metadata": {
    "deletable": true,
    "editable": true
   },
   "source": [
    "# Check Point\n",
    "This is your first checkpoint.  If you ever decide to come back to this notebook or have to restart the notebook, you can start from here.  The preprocessed data has been saved to disk."
   ]
  },
  {
   "cell_type": "code",
   "execution_count": 1,
   "metadata": {
    "collapsed": true,
    "deletable": true,
    "editable": true
   },
   "outputs": [],
   "source": [
    "\"\"\"\n",
    "DON'T MODIFY ANYTHING IN THIS CELL\n",
    "\"\"\"\n",
    "import pickle\n",
    "import problem_unittests as tests\n",
    "import helper\n",
    "\n",
    "# Load the Preprocessed Validation data\n",
    "valid_features, valid_labels = pickle.load(open('preprocess_validation.p', mode='rb'))"
   ]
  },
  {
   "cell_type": "markdown",
   "metadata": {
    "deletable": true,
    "editable": true
   },
   "source": [
    "## Build the network\n",
    "For the neural network, you'll build each layer into a function.  Most of the code you've seen has been outside of functions. To test your code more thoroughly, we require that you put each layer in a function.  This allows us to give you better feedback and test for simple mistakes using our unittests before you submit your project.\n",
    "\n",
    ">**Note:** If you're finding it hard to dedicate enough time for this course each week, we've provided a small shortcut to this part of the project. In the next couple of problems, you'll have the option to use classes from the [TensorFlow Layers](https://www.tensorflow.org/api_docs/python/tf/layers) or [TensorFlow Layers (contrib)](https://www.tensorflow.org/api_guides/python/contrib.layers) packages to build each layer, except the layers you build in the \"Convolutional and Max Pooling Layer\" section.  TF Layers is similar to Keras's and TFLearn's abstraction to layers, so it's easy to pickup.\n",
    "\n",
    ">However, if you would like to get the most out of this course, try to solve all the problems _without_ using anything from the TF Layers packages. You **can** still use classes from other packages that happen to have the same name as ones you find in TF Layers! For example, instead of using the TF Layers version of the `conv2d` class, [tf.layers.conv2d](https://www.tensorflow.org/api_docs/python/tf/layers/conv2d), you would want to use the TF Neural Network version of `conv2d`, [tf.nn.conv2d](https://www.tensorflow.org/api_docs/python/tf/nn/conv2d). \n",
    "\n",
    "Let's begin!\n",
    "\n",
    "### Input\n",
    "The neural network needs to read the image data, one-hot encoded labels, and dropout keep probability. Implement the following functions\n",
    "* Implement `neural_net_image_input`\n",
    " * Return a [TF Placeholder](https://www.tensorflow.org/api_docs/python/tf/placeholder)\n",
    " * Set the shape using `image_shape` with batch size set to `None`.\n",
    " * Name the TensorFlow placeholder \"x\" using the TensorFlow `name` parameter in the [TF Placeholder](https://www.tensorflow.org/api_docs/python/tf/placeholder).\n",
    "* Implement `neural_net_label_input`\n",
    " * Return a [TF Placeholder](https://www.tensorflow.org/api_docs/python/tf/placeholder)\n",
    " * Set the shape using `n_classes` with batch size set to `None`.\n",
    " * Name the TensorFlow placeholder \"y\" using the TensorFlow `name` parameter in the [TF Placeholder](https://www.tensorflow.org/api_docs/python/tf/placeholder).\n",
    "* Implement `neural_net_keep_prob_input`\n",
    " * Return a [TF Placeholder](https://www.tensorflow.org/api_docs/python/tf/placeholder) for dropout keep probability.\n",
    " * Name the TensorFlow placeholder \"keep_prob\" using the TensorFlow `name` parameter in the [TF Placeholder](https://www.tensorflow.org/api_docs/python/tf/placeholder).\n",
    "\n",
    "These names will be used at the end of the project to load your saved model.\n",
    "\n",
    "Note: `None` for shapes in TensorFlow allow for a dynamic size."
   ]
  },
  {
   "cell_type": "code",
   "execution_count": 2,
   "metadata": {
    "collapsed": false,
    "deletable": true,
    "editable": true
   },
   "outputs": [
    {
     "name": "stdout",
     "output_type": "stream",
     "text": [
      "Image Input Tests Passed.\n",
      "Label Input Tests Passed.\n",
      "Keep Prob Tests Passed.\n"
     ]
    }
   ],
   "source": [
    "import tensorflow as tf\n",
    "\n",
    "def neural_net_image_input(image_shape):\n",
    "    \"\"\"\n",
    "    Return a Tensor for a bach of image input\n",
    "    : image_shape: Shape of the images\n",
    "    : return: Tensor for image input.\n",
    "    \"\"\"\n",
    "    # TODO: Implement Function\n",
    "    return tf.placeholder(tf.float32,[None,image_shape[0],image_shape[1],image_shape[2]],name='x')\n",
    "\n",
    "\n",
    "def neural_net_label_input(n_classes):\n",
    "    \"\"\"\n",
    "    Return a Tensor for a batch of label input\n",
    "    : n_classes: Number of classes\n",
    "    : return: Tensor for label input.\n",
    "    \"\"\"\n",
    "    # TODO: Implement Function\n",
    "    return tf.placeholder(tf.float32,[None,10],name='y')\n",
    "\n",
    "\n",
    "def neural_net_keep_prob_input():\n",
    "    \"\"\"\n",
    "    Return a Tensor for keep probability\n",
    "    : return: Tensor for keep probability.\n",
    "    \"\"\"\n",
    "    # TODO: Implement Function\n",
    "    return tf.placeholder(tf.float32,name='keep_prob')\n",
    "\n",
    "\n",
    "\"\"\"\n",
    "DON'T MODIFY ANYTHING IN THIS CELL THAT IS BELOW THIS LINE\n",
    "\"\"\"\n",
    "tf.reset_default_graph()\n",
    "tests.test_nn_image_inputs(neural_net_image_input)\n",
    "tests.test_nn_label_inputs(neural_net_label_input)\n",
    "tests.test_nn_keep_prob_inputs(neural_net_keep_prob_input)"
   ]
  },
  {
   "cell_type": "markdown",
   "metadata": {
    "deletable": true,
    "editable": true
   },
   "source": [
    "### Convolution and Max Pooling Layer\n",
    "Convolution layers have a lot of success with images. For this code cell, you should implement the function `conv2d_maxpool` to apply convolution then max pooling:\n",
    "* Create the weight and bias using `conv_ksize`, `conv_num_outputs` and the shape of `x_tensor`.\n",
    "* Apply a convolution to `x_tensor` using weight and `conv_strides`.\n",
    " * We recommend you use same padding, but you're welcome to use any padding.\n",
    "* Add bias\n",
    "* Add a nonlinear activation to the convolution.\n",
    "* Apply Max Pooling using `pool_ksize` and `pool_strides`.\n",
    " * We recommend you use same padding, but you're welcome to use any padding.\n",
    "\n",
    "**Note:** You **can't** use [TensorFlow Layers](https://www.tensorflow.org/api_docs/python/tf/layers) or [TensorFlow Layers (contrib)](https://www.tensorflow.org/api_guides/python/contrib.layers) for **this** layer, but you can still use TensorFlow's [Neural Network](https://www.tensorflow.org/api_docs/python/tf/nn) package. You may still use the shortcut option for all the **other** layers."
   ]
  },
  {
   "cell_type": "code",
   "execution_count": 3,
   "metadata": {
    "collapsed": false,
    "deletable": true,
    "editable": true
   },
   "outputs": [
    {
     "name": "stdout",
     "output_type": "stream",
     "text": [
      "Tests Passed\n"
     ]
    }
   ],
   "source": [
    "def conv2d_maxpool(x_tensor, conv_num_outputs, conv_ksize, conv_strides, pool_ksize, pool_strides):\n",
    "    \"\"\"\n",
    "    Apply convolution then max pooling to x_tensor\n",
    "    :param x_tensor: TensorFlow Tensor\n",
    "    :param conv_num_outputs: Number of outputs for the convolutional layer\n",
    "    :param conv_ksize: kernal size 2-D Tuple for the convolutional layer\n",
    "    :param conv_strides: Stride 2-D Tuple for convolution\n",
    "    :param pool_ksize: kernal size 2-D Tuple for pool\n",
    "    :param pool_strides: Stride 2-D Tuple for pool\n",
    "    : return: A tensor that represents convolution and max pooling of x_tensor\n",
    "    \"\"\"\n",
    "    #Initialize the weight and bias\n",
    "    height, width = conv_ksize[0:2]\n",
    "    depth_in = x_tensor.get_shape().as_list()[3]\n",
    "    weight = tf.Variable(tf.truncated_normal([height,width,depth_in,conv_num_outputs],stddev=0.1))\n",
    "    bias = tf.Variable(tf.zeros([conv_num_outputs]))\n",
    "    \n",
    "    strider = [1,conv_strides[0],conv_strides[1],1]\n",
    "    conv = tf.nn.conv2d(x_tensor,weight,strider,padding='SAME')\n",
    "    conv = tf.nn.bias_add(conv,bias)\n",
    "    conv = tf.nn.relu(conv)\n",
    "    \n",
    "    conv = tf.nn.max_pool(conv,ksize=[1,pool_ksize[0],pool_ksize[1],1],strides=[1,pool_strides[0],pool_strides[1],1],padding='SAME')\n",
    "    \n",
    "    return conv \n",
    "\n",
    "\n",
    "\"\"\"\n",
    "DON'T MODIFY ANYTHING IN THIS CELL THAT IS BELOW THIS LINE\n",
    "\"\"\"\n",
    "tests.test_con_pool(conv2d_maxpool)"
   ]
  },
  {
   "cell_type": "markdown",
   "metadata": {
    "deletable": true,
    "editable": true
   },
   "source": [
    "### Flatten Layer\n",
    "Implement the `flatten` function to change the dimension of `x_tensor` from a 4-D tensor to a 2-D tensor.  The output should be the shape (*Batch Size*, *Flattened Image Size*). Shortcut option: you can use classes from the [TensorFlow Layers](https://www.tensorflow.org/api_docs/python/tf/layers) or [TensorFlow Layers (contrib)](https://www.tensorflow.org/api_guides/python/contrib.layers) packages for this layer. For more of a challenge, only use other TensorFlow packages."
   ]
  },
  {
   "cell_type": "code",
   "execution_count": 4,
   "metadata": {
    "collapsed": false,
    "deletable": true,
    "editable": true
   },
   "outputs": [
    {
     "name": "stdout",
     "output_type": "stream",
     "text": [
      "Tests Passed\n"
     ]
    }
   ],
   "source": [
    "def flatten(x_tensor):\n",
    "    \"\"\"\n",
    "    Flatten x_tensor to (Batch Size, Flattened Image Size)\n",
    "    : x_tensor: A tensor of size (Batch Size, ...), where ... are the image dimensions.\n",
    "    : return: A tensor of size (Batch Size, Flattened Image Size).\n",
    "    \"\"\"\n",
    "    height,width,depth = x_tensor.get_shape().as_list()[1:4]\n",
    "    x_tensor = tf.reshape(x_tensor,[-1,height*width*depth])\n",
    "    \n",
    "    return x_tensor\n",
    "\n",
    "\"\"\"\n",
    "DON'T MODIFY ANYTHING IN THIS CELL THAT IS BELOW THIS LINE\n",
    "\"\"\"\n",
    "tests.test_flatten(flatten)"
   ]
  },
  {
   "cell_type": "markdown",
   "metadata": {
    "deletable": true,
    "editable": true
   },
   "source": [
    "### Fully-Connected Layer\n",
    "Implement the `fully_conn` function to apply a fully connected layer to `x_tensor` with the shape (*Batch Size*, *num_outputs*). Shortcut option: you can use classes from the [TensorFlow Layers](https://www.tensorflow.org/api_docs/python/tf/layers) or [TensorFlow Layers (contrib)](https://www.tensorflow.org/api_guides/python/contrib.layers) packages for this layer. For more of a challenge, only use other TensorFlow packages."
   ]
  },
  {
   "cell_type": "code",
   "execution_count": 5,
   "metadata": {
    "collapsed": false,
    "deletable": true,
    "editable": true
   },
   "outputs": [
    {
     "name": "stdout",
     "output_type": "stream",
     "text": [
      "Tests Passed\n"
     ]
    }
   ],
   "source": [
    "def fully_conn(x_tensor, num_outputs):\n",
    "    \"\"\"\n",
    "    Apply a fully connected layer to x_tensor using weight and bias\n",
    "    : x_tensor: A 2-D tensor where the first dimension is batch size.\n",
    "    : num_outputs: The number of output that the new tensor should be.\n",
    "    : return: A 2-D tensor where the second dimension is num_outputs.\n",
    "    \"\"\"\n",
    "    n_size = x_tensor.get_shape().as_list()[1]\n",
    "    weight = tf.Variable(tf.truncated_normal([n_size,num_outputs],stddev=0.1))\n",
    "    bias  = tf.Variable(tf.random_normal([num_outputs]))\n",
    "    \n",
    "    x_tensor = tf.add(tf.matmul(x_tensor,weight),bias)\n",
    "    x_tensor = tf.nn.relu(x_tensor)\n",
    "    \n",
    "    return x_tensor\n",
    "\n",
    "\"\"\"\n",
    "DON'T MODIFY ANYTHING IN THIS CELL THAT IS BELOW THIS LINE\n",
    "\"\"\"\n",
    "tests.test_fully_conn(fully_conn)"
   ]
  },
  {
   "cell_type": "markdown",
   "metadata": {
    "deletable": true,
    "editable": true
   },
   "source": [
    "### Output Layer\n",
    "Implement the `output` function to apply a fully connected layer to `x_tensor` with the shape (*Batch Size*, *num_outputs*). Shortcut option: you can use classes from the [TensorFlow Layers](https://www.tensorflow.org/api_docs/python/tf/layers) or [TensorFlow Layers (contrib)](https://www.tensorflow.org/api_guides/python/contrib.layers) packages for this layer. For more of a challenge, only use other TensorFlow packages.\n",
    "\n",
    "**Note:** Activation, softmax, or cross entropy should **not** be applied to this."
   ]
  },
  {
   "cell_type": "code",
   "execution_count": 6,
   "metadata": {
    "collapsed": false,
    "deletable": true,
    "editable": true
   },
   "outputs": [
    {
     "name": "stdout",
     "output_type": "stream",
     "text": [
      "Tests Passed\n"
     ]
    }
   ],
   "source": [
    "def output(x_tensor, num_outputs):\n",
    "    \"\"\"\n",
    "    Apply a output layer to x_tensor using weight and bias\n",
    "    : x_tensor: A 2-D tensor where the first dimension is batch size.\n",
    "    : num_outputs: The number of output that the new tensor should be.\n",
    "    : return: A 2-D tensor where the second dimension is num_outputs.\n",
    "    \"\"\"\n",
    "    n_size = x_tensor.get_shape().as_list()[1]\n",
    "    \n",
    "    weight = tf.Variable(tf.random_normal([n_size,num_outputs],stddev=0.1))\n",
    "    bias = tf.Variable(tf.random_normal([num_outputs]))\n",
    "    \n",
    "    x_tensor = tf.add(tf.matmul(x_tensor,weight),bias)\n",
    "    \n",
    "    return x_tensor\n",
    "\n",
    "\n",
    "\"\"\"\n",
    "DON'T MODIFY ANYTHING IN THIS CELL THAT IS BELOW THIS LINE\n",
    "\"\"\"\n",
    "tests.test_output(output)"
   ]
  },
  {
   "cell_type": "markdown",
   "metadata": {
    "deletable": true,
    "editable": true
   },
   "source": [
    "### Create Convolutional Model\n",
    "Implement the function `conv_net` to create a convolutional neural network model. The function takes in a batch of images, `x`, and outputs logits.  Use the layers you created above to create this model:\n",
    "\n",
    "* Apply 1, 2, or 3 Convolution and Max Pool layers\n",
    "* Apply a Flatten Layer\n",
    "* Apply 1, 2, or 3 Fully Connected Layers\n",
    "* Apply an Output Layer\n",
    "* Return the output\n",
    "* Apply [TensorFlow's Dropout](https://www.tensorflow.org/api_docs/python/tf/nn/dropout) to one or more layers in the model using `keep_prob`. "
   ]
  },
  {
   "cell_type": "code",
   "execution_count": 9,
   "metadata": {
    "collapsed": false,
    "deletable": true,
    "editable": true
   },
   "outputs": [
    {
     "name": "stdout",
     "output_type": "stream",
     "text": [
      "Neural Network Built!\n"
     ]
    }
   ],
   "source": [
    "def conv_net(x, keep_prob):\n",
    "    \"\"\"\n",
    "    Create a convolutional neural network model\n",
    "    : x: Placeholder tensor that holds image data.\n",
    "    : keep_prob: Placeholder tensor that hold dropout keep probability.\n",
    "    : return: Tensor that represents logits\n",
    "    \"\"\"\n",
    "    conv1 = conv2d_maxpool(x, 32, (3,3), (2,2), (2,2), (2,2))\n",
    "    conv1 = tf.nn.dropout(conv1,keep_prob)\n",
    "    \n",
    "    conv2 = conv2d_maxpool(conv1, 64, (3,3), (1,1), (2,2), (2,2))\n",
    "    conv3 = conv2d_maxpool(conv1, 128, (3,3), (1,1), (2,2), (2,2))\n",
    "    conv3 = tf.nn.dropout(conv3,keep_prob)\n",
    "    \n",
    "    flat = flatten(conv3)\n",
    "    \n",
    "    fc1 = fully_conn(flat, 516)\n",
    "    fc1 = tf.nn.dropout(fc1,keep_prob)\n",
    "    \n",
    "    fc3 = fully_conn(fc1, 256)\n",
    "    fc3 = tf.nn.dropout(fc3,keep_prob)\n",
    "    \n",
    "    out = output(fc3, 10)\n",
    "    \n",
    "    return out\n",
    "\n",
    "\n",
    "\"\"\"\n",
    "DON'T MODIFY ANYTHING IN THIS CELL THAT IS BELOW THIS LINE\n",
    "\"\"\"\n",
    "\n",
    "##############################\n",
    "## Build the Neural Network ##\n",
    "##############################\n",
    "\n",
    "# Remove previous weights, bias, inputs, etc..\n",
    "tf.reset_default_graph()\n",
    "\n",
    "# Inputs\n",
    "x = neural_net_image_input((32, 32, 3))\n",
    "y = neural_net_label_input(10)\n",
    "keep_prob = neural_net_keep_prob_input()\n",
    "\n",
    "# Model\n",
    "logits = conv_net(x, keep_prob)\n",
    "\n",
    "# Name logits Tensor, so that is can be loaded from disk after training\n",
    "logits = tf.identity(logits, name='logits')\n",
    "\n",
    "# Loss and Optimizer\n",
    "cost = tf.reduce_mean(tf.nn.softmax_cross_entropy_with_logits(logits=logits, labels=y))\n",
    "optimizer = tf.train.AdamOptimizer().minimize(cost)\n",
    "\n",
    "# Accuracy\n",
    "correct_pred = tf.equal(tf.argmax(logits, 1), tf.argmax(y, 1))\n",
    "accuracy = tf.reduce_mean(tf.cast(correct_pred, tf.float32), name='accuracy')\n",
    "\n",
    "tests.test_conv_net(conv_net)"
   ]
  },
  {
   "cell_type": "markdown",
   "metadata": {
    "deletable": true,
    "editable": true
   },
   "source": [
    "## Train the Neural Network\n",
    "### Single Optimization\n",
    "Implement the function `train_neural_network` to do a single optimization.  The optimization should use `optimizer` to optimize in `session` with a `feed_dict` of the following:\n",
    "* `x` for image input\n",
    "* `y` for labels\n",
    "* `keep_prob` for keep probability for dropout\n",
    "\n",
    "This function will be called for each batch, so `tf.global_variables_initializer()` has already been called.\n",
    "\n",
    "Note: Nothing needs to be returned. This function is only optimizing the neural network."
   ]
  },
  {
   "cell_type": "code",
   "execution_count": 10,
   "metadata": {
    "collapsed": false,
    "deletable": true,
    "editable": true
   },
   "outputs": [
    {
     "name": "stdout",
     "output_type": "stream",
     "text": [
      "Tests Passed\n"
     ]
    }
   ],
   "source": [
    "def train_neural_network(session, optimizer, keep_probability, feature_batch, label_batch):\n",
    "    \"\"\"\n",
    "    Optimize the session on a batch of images and labels\n",
    "    : session: Current TensorFlow session\n",
    "    : optimizer: TensorFlow optimizer function\n",
    "    : keep_probability: keep probability\n",
    "    : feature_batch: Batch of Numpy image data\n",
    "    : label_batch: Batch of Numpy label data\n",
    "    \"\"\"\n",
    "    session.run(optimizer,feed_dict={x:feature_batch,y:label_batch,keep_prob:keep_probability})\n",
    "\n",
    "\"\"\"\n",
    "DON'T MODIFY ANYTHING IN THIS CELL THAT IS BELOW THIS LINE\n",
    "\"\"\"\n",
    "tests.test_train_nn(train_neural_network)"
   ]
  },
  {
   "cell_type": "markdown",
   "metadata": {
    "deletable": true,
    "editable": true
   },
   "source": [
    "### Show Stats\n",
    "Implement the function `print_stats` to print loss and validation accuracy.  Use the global variables `valid_features` and `valid_labels` to calculate validation accuracy.  Use a keep probability of `1.0` to calculate the loss and validation accuracy."
   ]
  },
  {
   "cell_type": "code",
   "execution_count": 11,
   "metadata": {
    "collapsed": false,
    "deletable": true,
    "editable": true
   },
   "outputs": [],
   "source": [
    "def print_stats(session, feature_batch, label_batch, cost, accuracy):\n",
    "    \"\"\"\n",
    "    Print information about loss and validation accuracy\n",
    "    : session: Current TensorFlow session\n",
    "    : feature_batch: Batch of Numpy image data\n",
    "    : label_batch: Batch of Numpy label data\n",
    "    : cost: TensorFlow cost function\n",
    "    : accuracy: TensorFlow accuracy function\n",
    "    \"\"\"\n",
    "    #global variables\n",
    "    global valid_features\n",
    "    global valid_labels\n",
    "    \n",
    "    #loss \n",
    "    loss = session.run(cost,feed_dict={x:feature_batch,y:label_batch,keep_prob:1})\n",
    "    \n",
    "    #validation\n",
    "    validation_accuracy = session.run(accuracy,feed_dict={x:valid_features,y:valid_labels,keep_prob:1})\n",
    "    \n",
    "    print('Cost: {:>10.4f}, Accuracy: {:.6f}'.format(loss,validation_accuracy))"
   ]
  },
  {
   "cell_type": "markdown",
   "metadata": {
    "deletable": true,
    "editable": true
   },
   "source": [
    "### Hyperparameters\n",
    "Tune the following parameters:\n",
    "* Set `epochs` to the number of iterations until the network stops learning or start overfitting\n",
    "* Set `batch_size` to the highest number that your machine has memory for.  Most people set them to common sizes of memory:\n",
    " * 64\n",
    " * 128\n",
    " * 256\n",
    " * ...\n",
    "* Set `keep_probability` to the probability of keeping a node using dropout"
   ]
  },
  {
   "cell_type": "code",
   "execution_count": 18,
   "metadata": {
    "collapsed": true,
    "deletable": true,
    "editable": true
   },
   "outputs": [],
   "source": [
    "# TODO: Tune Parameters\n",
    "epochs = 100\n",
    "batch_size = 128\n",
    "keep_probability = 0.7"
   ]
  },
  {
   "cell_type": "markdown",
   "metadata": {
    "deletable": true,
    "editable": true
   },
   "source": [
    "### Train on a Single CIFAR-10 Batch\n",
    "Instead of training the neural network on all the CIFAR-10 batches of data, let's use a single batch. This should save time while you iterate on the model to get a better accuracy.  Once the final validation accuracy is 50% or greater, run the model on all the data in the next section."
   ]
  },
  {
   "cell_type": "code",
   "execution_count": 14,
   "metadata": {
    "collapsed": false,
    "deletable": true,
    "editable": true
   },
   "outputs": [
    {
     "name": "stdout",
     "output_type": "stream",
     "text": [
      "Checking the Training on a Single Batch...\n",
      "Epoch  1, CIFAR-10 Batch 1:  Cost:     2.2321, Accuracy: 0.195200\n",
      "Epoch  2, CIFAR-10 Batch 1:  Cost:     2.1308, Accuracy: 0.263400\n",
      "Epoch  3, CIFAR-10 Batch 1:  Cost:     1.9104, Accuracy: 0.347600\n",
      "Epoch  4, CIFAR-10 Batch 1:  Cost:     1.8338, Accuracy: 0.398600\n",
      "Epoch  5, CIFAR-10 Batch 1:  Cost:     1.7885, Accuracy: 0.397000\n",
      "Epoch  6, CIFAR-10 Batch 1:  Cost:     1.6790, Accuracy: 0.432000\n",
      "Epoch  7, CIFAR-10 Batch 1:  Cost:     1.6123, Accuracy: 0.464800\n",
      "Epoch  8, CIFAR-10 Batch 1:  Cost:     1.5739, Accuracy: 0.474200\n",
      "Epoch  9, CIFAR-10 Batch 1:  Cost:     1.4293, Accuracy: 0.485800\n",
      "Epoch 10, CIFAR-10 Batch 1:  Cost:     1.4679, Accuracy: 0.487400\n",
      "Epoch 11, CIFAR-10 Batch 1:  Cost:     1.3011, Accuracy: 0.510600\n",
      "Epoch 12, CIFAR-10 Batch 1:  Cost:     1.2500, Accuracy: 0.527000\n",
      "Epoch 13, CIFAR-10 Batch 1:  Cost:     1.2280, Accuracy: 0.506400\n",
      "Epoch 14, CIFAR-10 Batch 1:  Cost:     1.0828, Accuracy: 0.534400\n",
      "Epoch 15, CIFAR-10 Batch 1:  Cost:     1.0697, Accuracy: 0.537000\n",
      "Epoch 16, CIFAR-10 Batch 1:  Cost:     1.0668, Accuracy: 0.547600\n",
      "Epoch 17, CIFAR-10 Batch 1:  Cost:     1.0873, Accuracy: 0.534400\n",
      "Epoch 18, CIFAR-10 Batch 1:  Cost:     0.9900, Accuracy: 0.542800\n",
      "Epoch 19, CIFAR-10 Batch 1:  Cost:     0.8588, Accuracy: 0.567800\n",
      "Epoch 20, CIFAR-10 Batch 1:  Cost:     0.8597, Accuracy: 0.573200\n"
     ]
    }
   ],
   "source": [
    "\"\"\"\n",
    "DON'T MODIFY ANYTHING IN THIS CELL\n",
    "\"\"\"\n",
    "print('Checking the Training on a Single Batch...')\n",
    "with tf.Session() as sess:\n",
    "    # Initializing the variables\n",
    "    sess.run(tf.global_variables_initializer())\n",
    "    \n",
    "    # Training cycle\n",
    "    for epoch in range(epochs):\n",
    "        batch_i = 1\n",
    "        for batch_features, batch_labels in helper.load_preprocess_training_batch(batch_i, batch_size):\n",
    "            train_neural_network(sess, optimizer, keep_probability, batch_features, batch_labels)\n",
    "        print('Epoch {:>2}, CIFAR-10 Batch {}:  '.format(epoch + 1, batch_i), end='')\n",
    "        print_stats(sess, batch_features, batch_labels, cost, accuracy)"
   ]
  },
  {
   "cell_type": "markdown",
   "metadata": {
    "deletable": true,
    "editable": true
   },
   "source": [
    "### Fully Train the Model\n",
    "Now that you got a good accuracy with a single CIFAR-10 batch, try it with all five batches."
   ]
  },
  {
   "cell_type": "code",
   "execution_count": 19,
   "metadata": {
    "collapsed": false,
    "deletable": true,
    "editable": true
   },
   "outputs": [
    {
     "name": "stdout",
     "output_type": "stream",
     "text": [
      "Training...\n",
      "Epoch  1, CIFAR-10 Batch 1:  Cost:     2.2000, Accuracy: 0.204800\n",
      "Epoch  1, CIFAR-10 Batch 2:  Cost:     1.9317, Accuracy: 0.292600\n",
      "Epoch  1, CIFAR-10 Batch 3:  Cost:     1.5191, Accuracy: 0.388400\n",
      "Epoch  1, CIFAR-10 Batch 4:  Cost:     1.6085, Accuracy: 0.426000\n",
      "Epoch  1, CIFAR-10 Batch 5:  Cost:     1.5755, Accuracy: 0.436000\n",
      "Epoch  2, CIFAR-10 Batch 1:  Cost:     1.7070, Accuracy: 0.441400\n",
      "Epoch  2, CIFAR-10 Batch 2:  Cost:     1.5314, Accuracy: 0.434800\n",
      "Epoch  2, CIFAR-10 Batch 3:  Cost:     1.2346, Accuracy: 0.468600\n",
      "Epoch  2, CIFAR-10 Batch 4:  Cost:     1.5264, Accuracy: 0.444000\n",
      "Epoch  2, CIFAR-10 Batch 5:  Cost:     1.5418, Accuracy: 0.452600\n",
      "Epoch  3, CIFAR-10 Batch 1:  Cost:     1.6191, Accuracy: 0.493600\n",
      "Epoch  3, CIFAR-10 Batch 2:  Cost:     1.3226, Accuracy: 0.480600\n",
      "Epoch  3, CIFAR-10 Batch 3:  Cost:     1.0187, Accuracy: 0.517800\n",
      "Epoch  3, CIFAR-10 Batch 4:  Cost:     1.3634, Accuracy: 0.507800\n",
      "Epoch  3, CIFAR-10 Batch 5:  Cost:     1.4789, Accuracy: 0.503400\n",
      "Epoch  4, CIFAR-10 Batch 1:  Cost:     1.4854, Accuracy: 0.538800\n",
      "Epoch  4, CIFAR-10 Batch 2:  Cost:     1.1755, Accuracy: 0.523400\n",
      "Epoch  4, CIFAR-10 Batch 3:  Cost:     1.0430, Accuracy: 0.525400\n",
      "Epoch  4, CIFAR-10 Batch 4:  Cost:     1.1720, Accuracy: 0.545000\n",
      "Epoch  4, CIFAR-10 Batch 5:  Cost:     1.3012, Accuracy: 0.539000\n",
      "Epoch  5, CIFAR-10 Batch 1:  Cost:     1.3846, Accuracy: 0.553000\n",
      "Epoch  5, CIFAR-10 Batch 2:  Cost:     1.0613, Accuracy: 0.561000\n",
      "Epoch  5, CIFAR-10 Batch 3:  Cost:     0.9698, Accuracy: 0.546800\n",
      "Epoch  5, CIFAR-10 Batch 4:  Cost:     1.0533, Accuracy: 0.560600\n",
      "Epoch  5, CIFAR-10 Batch 5:  Cost:     1.3996, Accuracy: 0.548800\n",
      "Epoch  6, CIFAR-10 Batch 1:  Cost:     1.2662, Accuracy: 0.579400\n",
      "Epoch  6, CIFAR-10 Batch 2:  Cost:     1.0916, Accuracy: 0.576200\n",
      "Epoch  6, CIFAR-10 Batch 3:  Cost:     0.9861, Accuracy: 0.554800\n",
      "Epoch  6, CIFAR-10 Batch 4:  Cost:     1.0251, Accuracy: 0.591400\n",
      "Epoch  6, CIFAR-10 Batch 5:  Cost:     1.2314, Accuracy: 0.562600\n",
      "Epoch  7, CIFAR-10 Batch 1:  Cost:     1.1171, Accuracy: 0.605800\n",
      "Epoch  7, CIFAR-10 Batch 2:  Cost:     1.0016, Accuracy: 0.601800\n",
      "Epoch  7, CIFAR-10 Batch 3:  Cost:     0.8728, Accuracy: 0.596400\n",
      "Epoch  7, CIFAR-10 Batch 4:  Cost:     0.9713, Accuracy: 0.594800\n",
      "Epoch  7, CIFAR-10 Batch 5:  Cost:     1.1161, Accuracy: 0.584600\n",
      "Epoch  8, CIFAR-10 Batch 1:  Cost:     1.0441, Accuracy: 0.614600\n",
      "Epoch  8, CIFAR-10 Batch 2:  Cost:     0.8807, Accuracy: 0.625400\n",
      "Epoch  8, CIFAR-10 Batch 3:  Cost:     0.7423, Accuracy: 0.616400\n",
      "Epoch  8, CIFAR-10 Batch 4:  Cost:     0.9151, Accuracy: 0.606000\n",
      "Epoch  8, CIFAR-10 Batch 5:  Cost:     0.9576, Accuracy: 0.623200\n",
      "Epoch  9, CIFAR-10 Batch 1:  Cost:     1.1026, Accuracy: 0.617000\n",
      "Epoch  9, CIFAR-10 Batch 2:  Cost:     0.7719, Accuracy: 0.640400\n",
      "Epoch  9, CIFAR-10 Batch 3:  Cost:     0.7236, Accuracy: 0.618200\n",
      "Epoch  9, CIFAR-10 Batch 4:  Cost:     0.7997, Accuracy: 0.639000\n",
      "Epoch  9, CIFAR-10 Batch 5:  Cost:     0.9300, Accuracy: 0.624800\n",
      "Epoch 10, CIFAR-10 Batch 1:  Cost:     0.8829, Accuracy: 0.646000\n",
      "Epoch 10, CIFAR-10 Batch 2:  Cost:     0.7580, Accuracy: 0.649600\n",
      "Epoch 10, CIFAR-10 Batch 3:  Cost:     0.6264, Accuracy: 0.628400\n",
      "Epoch 10, CIFAR-10 Batch 4:  Cost:     0.7724, Accuracy: 0.636800\n",
      "Epoch 10, CIFAR-10 Batch 5:  Cost:     0.8220, Accuracy: 0.639400\n",
      "Epoch 11, CIFAR-10 Batch 1:  Cost:     0.8615, Accuracy: 0.654400\n",
      "Epoch 11, CIFAR-10 Batch 2:  Cost:     0.7717, Accuracy: 0.648600\n",
      "Epoch 11, CIFAR-10 Batch 3:  Cost:     0.5803, Accuracy: 0.648200\n",
      "Epoch 11, CIFAR-10 Batch 4:  Cost:     0.7258, Accuracy: 0.632600\n",
      "Epoch 11, CIFAR-10 Batch 5:  Cost:     0.7327, Accuracy: 0.669600\n",
      "Epoch 12, CIFAR-10 Batch 1:  Cost:     0.7847, Accuracy: 0.652000\n",
      "Epoch 12, CIFAR-10 Batch 2:  Cost:     0.7999, Accuracy: 0.654000\n",
      "Epoch 12, CIFAR-10 Batch 3:  Cost:     0.5219, Accuracy: 0.652400\n",
      "Epoch 12, CIFAR-10 Batch 4:  Cost:     0.6287, Accuracy: 0.657600\n",
      "Epoch 12, CIFAR-10 Batch 5:  Cost:     0.7304, Accuracy: 0.669400\n",
      "Epoch 13, CIFAR-10 Batch 1:  Cost:     0.7160, Accuracy: 0.674200\n",
      "Epoch 13, CIFAR-10 Batch 2:  Cost:     0.6807, Accuracy: 0.661800\n",
      "Epoch 13, CIFAR-10 Batch 3:  Cost:     0.4419, Accuracy: 0.650400\n",
      "Epoch 13, CIFAR-10 Batch 4:  Cost:     0.6483, Accuracy: 0.643200\n",
      "Epoch 13, CIFAR-10 Batch 5:  Cost:     0.7012, Accuracy: 0.662800\n",
      "Epoch 14, CIFAR-10 Batch 1:  Cost:     0.6773, Accuracy: 0.679600\n",
      "Epoch 14, CIFAR-10 Batch 2:  Cost:     0.7646, Accuracy: 0.663000\n",
      "Epoch 14, CIFAR-10 Batch 3:  Cost:     0.4155, Accuracy: 0.672600\n",
      "Epoch 14, CIFAR-10 Batch 4:  Cost:     0.5378, Accuracy: 0.685600\n",
      "Epoch 14, CIFAR-10 Batch 5:  Cost:     0.6410, Accuracy: 0.673800\n",
      "Epoch 15, CIFAR-10 Batch 1:  Cost:     0.6346, Accuracy: 0.689800\n",
      "Epoch 15, CIFAR-10 Batch 2:  Cost:     0.6997, Accuracy: 0.664400\n",
      "Epoch 15, CIFAR-10 Batch 3:  Cost:     0.3663, Accuracy: 0.685000\n",
      "Epoch 15, CIFAR-10 Batch 4:  Cost:     0.4913, Accuracy: 0.687000\n",
      "Epoch 15, CIFAR-10 Batch 5:  Cost:     0.5568, Accuracy: 0.679000\n",
      "Epoch 16, CIFAR-10 Batch 1:  Cost:     0.5655, Accuracy: 0.707200\n",
      "Epoch 16, CIFAR-10 Batch 2:  Cost:     0.6330, Accuracy: 0.660000\n",
      "Epoch 16, CIFAR-10 Batch 3:  Cost:     0.3939, Accuracy: 0.694200\n",
      "Epoch 16, CIFAR-10 Batch 4:  Cost:     0.4059, Accuracy: 0.693600\n",
      "Epoch 16, CIFAR-10 Batch 5:  Cost:     0.5098, Accuracy: 0.692600\n",
      "Epoch 17, CIFAR-10 Batch 1:  Cost:     0.5193, Accuracy: 0.678800\n",
      "Epoch 17, CIFAR-10 Batch 2:  Cost:     0.5291, Accuracy: 0.668800\n",
      "Epoch 17, CIFAR-10 Batch 3:  Cost:     0.3158, Accuracy: 0.699800\n",
      "Epoch 17, CIFAR-10 Batch 4:  Cost:     0.4699, Accuracy: 0.692600\n",
      "Epoch 17, CIFAR-10 Batch 5:  Cost:     0.4508, Accuracy: 0.702800\n",
      "Epoch 18, CIFAR-10 Batch 1:  Cost:     0.4960, Accuracy: 0.685400\n",
      "Epoch 18, CIFAR-10 Batch 2:  Cost:     0.4960, Accuracy: 0.685200\n",
      "Epoch 18, CIFAR-10 Batch 3:  Cost:     0.3059, Accuracy: 0.681600\n",
      "Epoch 18, CIFAR-10 Batch 4:  Cost:     0.4665, Accuracy: 0.692400\n",
      "Epoch 18, CIFAR-10 Batch 5:  Cost:     0.4602, Accuracy: 0.693200\n",
      "Epoch 19, CIFAR-10 Batch 1:  Cost:     0.5786, Accuracy: 0.688000\n",
      "Epoch 19, CIFAR-10 Batch 2:  Cost:     0.5368, Accuracy: 0.679200\n",
      "Epoch 19, CIFAR-10 Batch 3:  Cost:     0.2834, Accuracy: 0.697600\n",
      "Epoch 19, CIFAR-10 Batch 4:  Cost:     0.4240, Accuracy: 0.689600\n",
      "Epoch 19, CIFAR-10 Batch 5:  Cost:     0.3614, Accuracy: 0.697800\n",
      "Epoch 20, CIFAR-10 Batch 1:  Cost:     0.4696, Accuracy: 0.706400\n",
      "Epoch 20, CIFAR-10 Batch 2:  Cost:     0.4059, Accuracy: 0.702800\n",
      "Epoch 20, CIFAR-10 Batch 3:  Cost:     0.2304, Accuracy: 0.720000\n",
      "Epoch 20, CIFAR-10 Batch 4:  Cost:     0.4404, Accuracy: 0.694200\n",
      "Epoch 20, CIFAR-10 Batch 5:  Cost:     0.3879, Accuracy: 0.688800\n",
      "Epoch 21, CIFAR-10 Batch 1:  Cost:     0.4126, Accuracy: 0.705000\n",
      "Epoch 21, CIFAR-10 Batch 2:  Cost:     0.4055, Accuracy: 0.677400\n",
      "Epoch 21, CIFAR-10 Batch 3:  Cost:     0.2294, Accuracy: 0.722000\n",
      "Epoch 21, CIFAR-10 Batch 4:  Cost:     0.3429, Accuracy: 0.710600\n",
      "Epoch 21, CIFAR-10 Batch 5:  Cost:     0.2771, Accuracy: 0.718000\n",
      "Epoch 22, CIFAR-10 Batch 1:  Cost:     0.4098, Accuracy: 0.702000\n",
      "Epoch 22, CIFAR-10 Batch 2:  Cost:     0.4195, Accuracy: 0.685400\n",
      "Epoch 22, CIFAR-10 Batch 3:  Cost:     0.2310, Accuracy: 0.713800\n",
      "Epoch 22, CIFAR-10 Batch 4:  Cost:     0.3470, Accuracy: 0.700400\n",
      "Epoch 22, CIFAR-10 Batch 5:  Cost:     0.2535, Accuracy: 0.713600\n",
      "Epoch 23, CIFAR-10 Batch 1:  Cost:     0.3811, Accuracy: 0.713000\n",
      "Epoch 23, CIFAR-10 Batch 2:  Cost:     0.3316, Accuracy: 0.701800\n",
      "Epoch 23, CIFAR-10 Batch 3:  Cost:     0.2317, Accuracy: 0.704400\n",
      "Epoch 23, CIFAR-10 Batch 4:  Cost:     0.2683, Accuracy: 0.708000\n",
      "Epoch 23, CIFAR-10 Batch 5:  Cost:     0.3184, Accuracy: 0.702600\n",
      "Epoch 24, CIFAR-10 Batch 1:  Cost:     0.3959, Accuracy: 0.710400\n",
      "Epoch 24, CIFAR-10 Batch 2:  Cost:     0.3049, Accuracy: 0.698400\n",
      "Epoch 24, CIFAR-10 Batch 3:  Cost:     0.2374, Accuracy: 0.720400\n",
      "Epoch 24, CIFAR-10 Batch 4:  Cost:     0.2460, Accuracy: 0.719600\n",
      "Epoch 24, CIFAR-10 Batch 5:  Cost:     0.2295, Accuracy: 0.725200\n",
      "Epoch 25, CIFAR-10 Batch 1:  Cost:     0.3356, Accuracy: 0.719000\n",
      "Epoch 25, CIFAR-10 Batch 2:  Cost:     0.3183, Accuracy: 0.708600\n",
      "Epoch 25, CIFAR-10 Batch 3:  Cost:     0.2198, Accuracy: 0.719600\n",
      "Epoch 25, CIFAR-10 Batch 4:  Cost:     0.3147, Accuracy: 0.715000\n",
      "Epoch 25, CIFAR-10 Batch 5:  Cost:     0.3005, Accuracy: 0.710200\n",
      "Epoch 26, CIFAR-10 Batch 1:  Cost:     0.3382, Accuracy: 0.728200\n",
      "Epoch 26, CIFAR-10 Batch 2:  Cost:     0.3276, Accuracy: 0.711000\n",
      "Epoch 26, CIFAR-10 Batch 3:  Cost:     0.2151, Accuracy: 0.724400\n",
      "Epoch 26, CIFAR-10 Batch 4:  Cost:     0.2162, Accuracy: 0.724800\n",
      "Epoch 26, CIFAR-10 Batch 5:  Cost:     0.2278, Accuracy: 0.732600\n",
      "Epoch 27, CIFAR-10 Batch 1:  Cost:     0.3172, Accuracy: 0.728200\n",
      "Epoch 27, CIFAR-10 Batch 2:  Cost:     0.1926, Accuracy: 0.727600\n",
      "Epoch 27, CIFAR-10 Batch 3:  Cost:     0.1686, Accuracy: 0.725200\n",
      "Epoch 27, CIFAR-10 Batch 4:  Cost:     0.2461, Accuracy: 0.715200\n",
      "Epoch 27, CIFAR-10 Batch 5:  Cost:     0.2256, Accuracy: 0.722800\n",
      "Epoch 28, CIFAR-10 Batch 1:  Cost:     0.2623, Accuracy: 0.726400\n",
      "Epoch 28, CIFAR-10 Batch 2:  Cost:     0.2451, Accuracy: 0.709400\n",
      "Epoch 28, CIFAR-10 Batch 3:  Cost:     0.1739, Accuracy: 0.721000\n",
      "Epoch 28, CIFAR-10 Batch 4:  Cost:     0.2354, Accuracy: 0.713000\n",
      "Epoch 28, CIFAR-10 Batch 5:  Cost:     0.1873, Accuracy: 0.732400\n",
      "Epoch 29, CIFAR-10 Batch 1:  Cost:     0.3119, Accuracy: 0.721000\n",
      "Epoch 29, CIFAR-10 Batch 2:  Cost:     0.1671, Accuracy: 0.727400\n",
      "Epoch 29, CIFAR-10 Batch 3:  Cost:     0.1592, Accuracy: 0.727200\n",
      "Epoch 29, CIFAR-10 Batch 4:  Cost:     0.1942, Accuracy: 0.734600\n",
      "Epoch 29, CIFAR-10 Batch 5:  Cost:     0.1795, Accuracy: 0.733600\n",
      "Epoch 30, CIFAR-10 Batch 1:  Cost:     0.2233, Accuracy: 0.725000\n",
      "Epoch 30, CIFAR-10 Batch 2:  Cost:     0.2547, Accuracy: 0.721600\n",
      "Epoch 30, CIFAR-10 Batch 3:  Cost:     0.1424, Accuracy: 0.731600\n",
      "Epoch 30, CIFAR-10 Batch 4:  Cost:     0.1359, Accuracy: 0.742200\n",
      "Epoch 30, CIFAR-10 Batch 5:  Cost:     0.1489, Accuracy: 0.729800\n",
      "Epoch 31, CIFAR-10 Batch 1:  Cost:     0.2335, Accuracy: 0.733200\n",
      "Epoch 31, CIFAR-10 Batch 2:  Cost:     0.1850, Accuracy: 0.726400\n",
      "Epoch 31, CIFAR-10 Batch 3:  Cost:     0.1380, Accuracy: 0.732600\n",
      "Epoch 31, CIFAR-10 Batch 4:  Cost:     0.1452, Accuracy: 0.739800\n",
      "Epoch 31, CIFAR-10 Batch 5:  Cost:     0.1510, Accuracy: 0.730200\n",
      "Epoch 32, CIFAR-10 Batch 1:  Cost:     0.1905, Accuracy: 0.730600\n",
      "Epoch 32, CIFAR-10 Batch 2:  Cost:     0.2010, Accuracy: 0.717600\n",
      "Epoch 32, CIFAR-10 Batch 3:  Cost:     0.1270, Accuracy: 0.735800\n",
      "Epoch 32, CIFAR-10 Batch 4:  Cost:     0.1983, Accuracy: 0.737800\n",
      "Epoch 32, CIFAR-10 Batch 5:  Cost:     0.1274, Accuracy: 0.726200\n",
      "Epoch 33, CIFAR-10 Batch 1:  Cost:     0.2135, Accuracy: 0.725400\n",
      "Epoch 33, CIFAR-10 Batch 2:  Cost:     0.2046, Accuracy: 0.726800\n",
      "Epoch 33, CIFAR-10 Batch 3:  Cost:     0.1461, Accuracy: 0.726600\n",
      "Epoch 33, CIFAR-10 Batch 4:  Cost:     0.1704, Accuracy: 0.745000\n",
      "Epoch 33, CIFAR-10 Batch 5:  Cost:     0.1146, Accuracy: 0.730800\n",
      "Epoch 34, CIFAR-10 Batch 1:  Cost:     0.1925, Accuracy: 0.722400\n",
      "Epoch 34, CIFAR-10 Batch 2:  Cost:     0.1498, Accuracy: 0.737400\n",
      "Epoch 34, CIFAR-10 Batch 3:  Cost:     0.1122, Accuracy: 0.738200\n",
      "Epoch 34, CIFAR-10 Batch 4:  Cost:     0.1797, Accuracy: 0.743200\n",
      "Epoch 34, CIFAR-10 Batch 5:  Cost:     0.1083, Accuracy: 0.728800\n",
      "Epoch 35, CIFAR-10 Batch 1:  Cost:     0.1736, Accuracy: 0.740000\n",
      "Epoch 35, CIFAR-10 Batch 2:  Cost:     0.1691, Accuracy: 0.739000\n",
      "Epoch 35, CIFAR-10 Batch 3:  Cost:     0.1002, Accuracy: 0.745200\n",
      "Epoch 35, CIFAR-10 Batch 4:  Cost:     0.1455, Accuracy: 0.745600\n",
      "Epoch 35, CIFAR-10 Batch 5:  Cost:     0.1169, Accuracy: 0.740200\n",
      "Epoch 36, CIFAR-10 Batch 1:  Cost:     0.1602, Accuracy: 0.733000\n",
      "Epoch 36, CIFAR-10 Batch 2:  Cost:     0.1629, Accuracy: 0.730800\n",
      "Epoch 36, CIFAR-10 Batch 3:  Cost:     0.1105, Accuracy: 0.745800\n",
      "Epoch 36, CIFAR-10 Batch 4:  Cost:     0.1351, Accuracy: 0.744400\n",
      "Epoch 36, CIFAR-10 Batch 5:  Cost:     0.1200, Accuracy: 0.735200\n",
      "Epoch 37, CIFAR-10 Batch 1:  Cost:     0.1396, Accuracy: 0.732600\n",
      "Epoch 37, CIFAR-10 Batch 2:  Cost:     0.1468, Accuracy: 0.737000\n",
      "Epoch 37, CIFAR-10 Batch 3:  Cost:     0.1184, Accuracy: 0.743000\n",
      "Epoch 37, CIFAR-10 Batch 4:  Cost:     0.1248, Accuracy: 0.746600\n",
      "Epoch 37, CIFAR-10 Batch 5:  Cost:     0.1038, Accuracy: 0.741400\n",
      "Epoch 38, CIFAR-10 Batch 1:  Cost:     0.1191, Accuracy: 0.744000\n",
      "Epoch 38, CIFAR-10 Batch 2:  Cost:     0.1167, Accuracy: 0.738200\n",
      "Epoch 38, CIFAR-10 Batch 3:  Cost:     0.0958, Accuracy: 0.740200\n",
      "Epoch 38, CIFAR-10 Batch 4:  Cost:     0.1425, Accuracy: 0.731600\n",
      "Epoch 38, CIFAR-10 Batch 5:  Cost:     0.1038, Accuracy: 0.731400\n",
      "Epoch 39, CIFAR-10 Batch 1:  Cost:     0.1368, Accuracy: 0.737800\n",
      "Epoch 39, CIFAR-10 Batch 2:  Cost:     0.1285, Accuracy: 0.740800\n",
      "Epoch 39, CIFAR-10 Batch 3:  Cost:     0.0970, Accuracy: 0.735200\n",
      "Epoch 39, CIFAR-10 Batch 4:  Cost:     0.1230, Accuracy: 0.741400\n",
      "Epoch 39, CIFAR-10 Batch 5:  Cost:     0.0841, Accuracy: 0.744200\n",
      "Epoch 40, CIFAR-10 Batch 1:  Cost:     0.1272, Accuracy: 0.725400\n",
      "Epoch 40, CIFAR-10 Batch 2:  Cost:     0.1579, Accuracy: 0.728800\n",
      "Epoch 40, CIFAR-10 Batch 3:  Cost:     0.1045, Accuracy: 0.725000\n",
      "Epoch 40, CIFAR-10 Batch 4:  Cost:     0.0961, Accuracy: 0.737200\n",
      "Epoch 40, CIFAR-10 Batch 5:  Cost:     0.1107, Accuracy: 0.726800\n",
      "Epoch 41, CIFAR-10 Batch 1:  Cost:     0.1220, Accuracy: 0.724800\n",
      "Epoch 41, CIFAR-10 Batch 2:  Cost:     0.1063, Accuracy: 0.745800\n",
      "Epoch 41, CIFAR-10 Batch 3:  Cost:     0.0812, Accuracy: 0.744800\n",
      "Epoch 41, CIFAR-10 Batch 4:  Cost:     0.1104, Accuracy: 0.740400\n",
      "Epoch 41, CIFAR-10 Batch 5:  Cost:     0.0901, Accuracy: 0.737800\n",
      "Epoch 42, CIFAR-10 Batch 1:  Cost:     0.1237, Accuracy: 0.734600\n",
      "Epoch 42, CIFAR-10 Batch 2:  Cost:     0.1138, Accuracy: 0.732200\n",
      "Epoch 42, CIFAR-10 Batch 3:  Cost:     0.0796, Accuracy: 0.750400\n",
      "Epoch 42, CIFAR-10 Batch 4:  Cost:     0.0917, Accuracy: 0.744600\n",
      "Epoch 42, CIFAR-10 Batch 5:  Cost:     0.1291, Accuracy: 0.728600\n",
      "Epoch 43, CIFAR-10 Batch 1:  Cost:     0.1064, Accuracy: 0.737600\n",
      "Epoch 43, CIFAR-10 Batch 2:  Cost:     0.0885, Accuracy: 0.745400\n",
      "Epoch 43, CIFAR-10 Batch 3:  Cost:     0.0912, Accuracy: 0.738800\n",
      "Epoch 43, CIFAR-10 Batch 4:  Cost:     0.0957, Accuracy: 0.742000\n",
      "Epoch 43, CIFAR-10 Batch 5:  Cost:     0.0879, Accuracy: 0.740000\n",
      "Epoch 44, CIFAR-10 Batch 1:  Cost:     0.1063, Accuracy: 0.729600\n",
      "Epoch 44, CIFAR-10 Batch 2:  Cost:     0.0849, Accuracy: 0.726200\n",
      "Epoch 44, CIFAR-10 Batch 3:  Cost:     0.0857, Accuracy: 0.733400\n",
      "Epoch 44, CIFAR-10 Batch 4:  Cost:     0.0802, Accuracy: 0.744000\n",
      "Epoch 44, CIFAR-10 Batch 5:  Cost:     0.0735, Accuracy: 0.727800\n",
      "Epoch 45, CIFAR-10 Batch 1:  Cost:     0.0881, Accuracy: 0.736000\n",
      "Epoch 45, CIFAR-10 Batch 2:  Cost:     0.1036, Accuracy: 0.726600\n",
      "Epoch 45, CIFAR-10 Batch 3:  Cost:     0.1113, Accuracy: 0.724800\n",
      "Epoch 45, CIFAR-10 Batch 4:  Cost:     0.1009, Accuracy: 0.749000\n",
      "Epoch 45, CIFAR-10 Batch 5:  Cost:     0.0926, Accuracy: 0.712200\n",
      "Epoch 46, CIFAR-10 Batch 1:  Cost:     0.1112, Accuracy: 0.736400\n",
      "Epoch 46, CIFAR-10 Batch 2:  Cost:     0.1071, Accuracy: 0.742000\n",
      "Epoch 46, CIFAR-10 Batch 3:  Cost:     0.0730, Accuracy: 0.748000\n",
      "Epoch 46, CIFAR-10 Batch 4:  Cost:     0.0879, Accuracy: 0.743200\n",
      "Epoch 46, CIFAR-10 Batch 5:  Cost:     0.0588, Accuracy: 0.743200\n",
      "Epoch 47, CIFAR-10 Batch 1:  Cost:     0.1089, Accuracy: 0.734200\n",
      "Epoch 47, CIFAR-10 Batch 2:  Cost:     0.0690, Accuracy: 0.736600\n",
      "Epoch 47, CIFAR-10 Batch 3:  Cost:     0.0843, Accuracy: 0.743400\n",
      "Epoch 47, CIFAR-10 Batch 4:  Cost:     0.0779, Accuracy: 0.754800\n",
      "Epoch 47, CIFAR-10 Batch 5:  Cost:     0.0789, Accuracy: 0.727000\n",
      "Epoch 48, CIFAR-10 Batch 1:  Cost:     0.0978, Accuracy: 0.746600\n",
      "Epoch 48, CIFAR-10 Batch 2:  Cost:     0.0774, Accuracy: 0.739200\n",
      "Epoch 48, CIFAR-10 Batch 3:  Cost:     0.0826, Accuracy: 0.737600\n",
      "Epoch 48, CIFAR-10 Batch 4:  Cost:     0.0714, Accuracy: 0.746400\n",
      "Epoch 48, CIFAR-10 Batch 5:  Cost:     0.0549, Accuracy: 0.752000\n",
      "Epoch 49, CIFAR-10 Batch 1:  Cost:     0.0771, Accuracy: 0.752400\n",
      "Epoch 49, CIFAR-10 Batch 2:  Cost:     0.0623, Accuracy: 0.748000\n",
      "Epoch 49, CIFAR-10 Batch 3:  Cost:     0.0714, Accuracy: 0.729000\n",
      "Epoch 49, CIFAR-10 Batch 4:  Cost:     0.0933, Accuracy: 0.752200\n",
      "Epoch 49, CIFAR-10 Batch 5:  Cost:     0.0550, Accuracy: 0.743400\n",
      "Epoch 50, CIFAR-10 Batch 1:  Cost:     0.0856, Accuracy: 0.744200\n",
      "Epoch 50, CIFAR-10 Batch 2:  Cost:     0.0840, Accuracy: 0.735000\n",
      "Epoch 50, CIFAR-10 Batch 3:  Cost:     0.0597, Accuracy: 0.742400\n",
      "Epoch 50, CIFAR-10 Batch 4:  Cost:     0.0873, Accuracy: 0.745000\n",
      "Epoch 50, CIFAR-10 Batch 5:  Cost:     0.0540, Accuracy: 0.747200\n",
      "Epoch 51, CIFAR-10 Batch 1:  Cost:     0.0904, Accuracy: 0.727000\n",
      "Epoch 51, CIFAR-10 Batch 2:  Cost:     0.1164, Accuracy: 0.736000\n",
      "Epoch 51, CIFAR-10 Batch 3:  Cost:     0.0575, Accuracy: 0.739400\n",
      "Epoch 51, CIFAR-10 Batch 4:  Cost:     0.0920, Accuracy: 0.744400\n",
      "Epoch 51, CIFAR-10 Batch 5:  Cost:     0.0586, Accuracy: 0.723800\n",
      "Epoch 52, CIFAR-10 Batch 1:  Cost:     0.0824, Accuracy: 0.741200\n",
      "Epoch 52, CIFAR-10 Batch 2:  Cost:     0.0659, Accuracy: 0.742600\n",
      "Epoch 52, CIFAR-10 Batch 3:  Cost:     0.0684, Accuracy: 0.739000\n",
      "Epoch 52, CIFAR-10 Batch 4:  Cost:     0.0852, Accuracy: 0.751000\n",
      "Epoch 52, CIFAR-10 Batch 5:  Cost:     0.0500, Accuracy: 0.733400\n",
      "Epoch 53, CIFAR-10 Batch 1:  Cost:     0.0802, Accuracy: 0.733000\n",
      "Epoch 53, CIFAR-10 Batch 2:  Cost:     0.0504, Accuracy: 0.744200\n",
      "Epoch 53, CIFAR-10 Batch 3:  Cost:     0.0580, Accuracy: 0.731800\n",
      "Epoch 53, CIFAR-10 Batch 4:  Cost:     0.0814, Accuracy: 0.757200\n",
      "Epoch 53, CIFAR-10 Batch 5:  Cost:     0.0381, Accuracy: 0.749200\n",
      "Epoch 54, CIFAR-10 Batch 1:  Cost:     0.0685, Accuracy: 0.749600\n",
      "Epoch 54, CIFAR-10 Batch 2:  Cost:     0.0892, Accuracy: 0.737800\n",
      "Epoch 54, CIFAR-10 Batch 3:  Cost:     0.0413, Accuracy: 0.744400\n",
      "Epoch 54, CIFAR-10 Batch 4:  Cost:     0.0614, Accuracy: 0.754600\n",
      "Epoch 54, CIFAR-10 Batch 5:  Cost:     0.0385, Accuracy: 0.743800\n",
      "Epoch 55, CIFAR-10 Batch 1:  Cost:     0.0721, Accuracy: 0.742200\n",
      "Epoch 55, CIFAR-10 Batch 2:  Cost:     0.0712, Accuracy: 0.738000\n",
      "Epoch 55, CIFAR-10 Batch 3:  Cost:     0.0409, Accuracy: 0.742000\n",
      "Epoch 55, CIFAR-10 Batch 4:  Cost:     0.0825, Accuracy: 0.750200\n",
      "Epoch 55, CIFAR-10 Batch 5:  Cost:     0.0383, Accuracy: 0.741800\n",
      "Epoch 56, CIFAR-10 Batch 1:  Cost:     0.0739, Accuracy: 0.743800\n",
      "Epoch 56, CIFAR-10 Batch 2:  Cost:     0.0661, Accuracy: 0.750000\n",
      "Epoch 56, CIFAR-10 Batch 3:  Cost:     0.0434, Accuracy: 0.741000\n",
      "Epoch 56, CIFAR-10 Batch 4:  Cost:     0.0697, Accuracy: 0.746800\n",
      "Epoch 56, CIFAR-10 Batch 5:  Cost:     0.0379, Accuracy: 0.741400\n",
      "Epoch 57, CIFAR-10 Batch 1:  Cost:     0.0470, Accuracy: 0.750600\n",
      "Epoch 57, CIFAR-10 Batch 2:  Cost:     0.0434, Accuracy: 0.741800\n",
      "Epoch 57, CIFAR-10 Batch 3:  Cost:     0.0428, Accuracy: 0.737200\n",
      "Epoch 57, CIFAR-10 Batch 4:  Cost:     0.0751, Accuracy: 0.746200\n",
      "Epoch 57, CIFAR-10 Batch 5:  Cost:     0.0382, Accuracy: 0.740000\n",
      "Epoch 58, CIFAR-10 Batch 1:  Cost:     0.0685, Accuracy: 0.748800\n",
      "Epoch 58, CIFAR-10 Batch 2:  Cost:     0.0443, Accuracy: 0.750600\n",
      "Epoch 58, CIFAR-10 Batch 3:  Cost:     0.0288, Accuracy: 0.738400\n",
      "Epoch 58, CIFAR-10 Batch 4:  Cost:     0.0510, Accuracy: 0.751000\n",
      "Epoch 58, CIFAR-10 Batch 5:  Cost:     0.0362, Accuracy: 0.747600\n",
      "Epoch 59, CIFAR-10 Batch 1:  Cost:     0.0588, Accuracy: 0.752200\n",
      "Epoch 59, CIFAR-10 Batch 2:  Cost:     0.0646, Accuracy: 0.737000\n",
      "Epoch 59, CIFAR-10 Batch 3:  Cost:     0.0316, Accuracy: 0.754000\n",
      "Epoch 59, CIFAR-10 Batch 4:  Cost:     0.0494, Accuracy: 0.756800\n",
      "Epoch 59, CIFAR-10 Batch 5:  Cost:     0.0377, Accuracy: 0.747400\n",
      "Epoch 60, CIFAR-10 Batch 1:  Cost:     0.0574, Accuracy: 0.747400\n",
      "Epoch 60, CIFAR-10 Batch 2:  Cost:     0.0391, Accuracy: 0.749000\n",
      "Epoch 60, CIFAR-10 Batch 3:  Cost:     0.0400, Accuracy: 0.740000\n",
      "Epoch 60, CIFAR-10 Batch 4:  Cost:     0.0307, Accuracy: 0.754600\n",
      "Epoch 60, CIFAR-10 Batch 5:  Cost:     0.0576, Accuracy: 0.745400\n",
      "Epoch 61, CIFAR-10 Batch 1:  Cost:     0.0421, Accuracy: 0.751000\n",
      "Epoch 61, CIFAR-10 Batch 2:  Cost:     0.0450, Accuracy: 0.746800\n",
      "Epoch 61, CIFAR-10 Batch 3:  Cost:     0.0335, Accuracy: 0.752600\n",
      "Epoch 61, CIFAR-10 Batch 4:  Cost:     0.0306, Accuracy: 0.759600\n",
      "Epoch 61, CIFAR-10 Batch 5:  Cost:     0.0292, Accuracy: 0.750800\n",
      "Epoch 62, CIFAR-10 Batch 1:  Cost:     0.0577, Accuracy: 0.746400\n",
      "Epoch 62, CIFAR-10 Batch 2:  Cost:     0.0474, Accuracy: 0.754000\n",
      "Epoch 62, CIFAR-10 Batch 3:  Cost:     0.0386, Accuracy: 0.760200\n",
      "Epoch 62, CIFAR-10 Batch 4:  Cost:     0.0379, Accuracy: 0.758200\n",
      "Epoch 62, CIFAR-10 Batch 5:  Cost:     0.0344, Accuracy: 0.750000\n",
      "Epoch 63, CIFAR-10 Batch 1:  Cost:     0.0551, Accuracy: 0.751200\n",
      "Epoch 63, CIFAR-10 Batch 2:  Cost:     0.0974, Accuracy: 0.744200\n",
      "Epoch 63, CIFAR-10 Batch 3:  Cost:     0.0191, Accuracy: 0.753400\n",
      "Epoch 63, CIFAR-10 Batch 4:  Cost:     0.0369, Accuracy: 0.755400\n",
      "Epoch 63, CIFAR-10 Batch 5:  Cost:     0.0423, Accuracy: 0.745000\n",
      "Epoch 64, CIFAR-10 Batch 1:  Cost:     0.0545, Accuracy: 0.755400\n",
      "Epoch 64, CIFAR-10 Batch 2:  Cost:     0.0598, Accuracy: 0.744800\n",
      "Epoch 64, CIFAR-10 Batch 3:  Cost:     0.0438, Accuracy: 0.742000\n",
      "Epoch 64, CIFAR-10 Batch 4:  Cost:     0.0343, Accuracy: 0.757000\n",
      "Epoch 64, CIFAR-10 Batch 5:  Cost:     0.0249, Accuracy: 0.749600\n",
      "Epoch 65, CIFAR-10 Batch 1:  Cost:     0.0395, Accuracy: 0.754400\n",
      "Epoch 65, CIFAR-10 Batch 2:  Cost:     0.0728, Accuracy: 0.739600\n",
      "Epoch 65, CIFAR-10 Batch 3:  Cost:     0.0333, Accuracy: 0.748000\n",
      "Epoch 65, CIFAR-10 Batch 4:  Cost:     0.0233, Accuracy: 0.755600\n",
      "Epoch 65, CIFAR-10 Batch 5:  Cost:     0.0245, Accuracy: 0.755000\n",
      "Epoch 66, CIFAR-10 Batch 1:  Cost:     0.0320, Accuracy: 0.754000\n",
      "Epoch 66, CIFAR-10 Batch 2:  Cost:     0.0429, Accuracy: 0.752400\n",
      "Epoch 66, CIFAR-10 Batch 3:  Cost:     0.0241, Accuracy: 0.751400\n",
      "Epoch 66, CIFAR-10 Batch 4:  Cost:     0.0331, Accuracy: 0.757400\n",
      "Epoch 66, CIFAR-10 Batch 5:  Cost:     0.0275, Accuracy: 0.746400\n",
      "Epoch 67, CIFAR-10 Batch 1:  Cost:     0.0367, Accuracy: 0.747400\n",
      "Epoch 67, CIFAR-10 Batch 2:  Cost:     0.0274, Accuracy: 0.747400\n",
      "Epoch 67, CIFAR-10 Batch 3:  Cost:     0.0224, Accuracy: 0.752200\n",
      "Epoch 67, CIFAR-10 Batch 4:  Cost:     0.0219, Accuracy: 0.758400\n",
      "Epoch 67, CIFAR-10 Batch 5:  Cost:     0.0231, Accuracy: 0.745200\n",
      "Epoch 68, CIFAR-10 Batch 1:  Cost:     0.0430, Accuracy: 0.747800\n",
      "Epoch 68, CIFAR-10 Batch 2:  Cost:     0.0293, Accuracy: 0.756400\n",
      "Epoch 68, CIFAR-10 Batch 3:  Cost:     0.0193, Accuracy: 0.745200\n",
      "Epoch 68, CIFAR-10 Batch 4:  Cost:     0.0268, Accuracy: 0.750200\n",
      "Epoch 68, CIFAR-10 Batch 5:  Cost:     0.0230, Accuracy: 0.745000\n",
      "Epoch 69, CIFAR-10 Batch 1:  Cost:     0.0378, Accuracy: 0.753800\n",
      "Epoch 69, CIFAR-10 Batch 2:  Cost:     0.0282, Accuracy: 0.756000\n",
      "Epoch 69, CIFAR-10 Batch 3:  Cost:     0.0198, Accuracy: 0.747800\n",
      "Epoch 69, CIFAR-10 Batch 4:  Cost:     0.0261, Accuracy: 0.753400\n",
      "Epoch 69, CIFAR-10 Batch 5:  Cost:     0.0209, Accuracy: 0.746400\n",
      "Epoch 70, CIFAR-10 Batch 1:  Cost:     0.0279, Accuracy: 0.760600\n",
      "Epoch 70, CIFAR-10 Batch 2:  Cost:     0.0477, Accuracy: 0.748400\n",
      "Epoch 70, CIFAR-10 Batch 3:  Cost:     0.0163, Accuracy: 0.749600\n",
      "Epoch 70, CIFAR-10 Batch 4:  Cost:     0.0209, Accuracy: 0.754800\n",
      "Epoch 70, CIFAR-10 Batch 5:  Cost:     0.0180, Accuracy: 0.751400\n",
      "Epoch 71, CIFAR-10 Batch 1:  Cost:     0.0291, Accuracy: 0.756000\n",
      "Epoch 71, CIFAR-10 Batch 2:  Cost:     0.0347, Accuracy: 0.756400\n",
      "Epoch 71, CIFAR-10 Batch 3:  Cost:     0.0133, Accuracy: 0.748200\n",
      "Epoch 71, CIFAR-10 Batch 4:  Cost:     0.0208, Accuracy: 0.759000\n",
      "Epoch 71, CIFAR-10 Batch 5:  Cost:     0.0203, Accuracy: 0.756800\n",
      "Epoch 72, CIFAR-10 Batch 1:  Cost:     0.0458, Accuracy: 0.745800\n",
      "Epoch 72, CIFAR-10 Batch 2:  Cost:     0.0487, Accuracy: 0.747800\n",
      "Epoch 72, CIFAR-10 Batch 3:  Cost:     0.0248, Accuracy: 0.758200\n",
      "Epoch 72, CIFAR-10 Batch 4:  Cost:     0.0287, Accuracy: 0.751000\n",
      "Epoch 72, CIFAR-10 Batch 5:  Cost:     0.0188, Accuracy: 0.748600\n",
      "Epoch 73, CIFAR-10 Batch 1:  Cost:     0.0246, Accuracy: 0.755200\n",
      "Epoch 73, CIFAR-10 Batch 2:  Cost:     0.0291, Accuracy: 0.747200\n",
      "Epoch 73, CIFAR-10 Batch 3:  Cost:     0.0283, Accuracy: 0.744000\n",
      "Epoch 73, CIFAR-10 Batch 4:  Cost:     0.0403, Accuracy: 0.759200\n",
      "Epoch 73, CIFAR-10 Batch 5:  Cost:     0.0262, Accuracy: 0.753200\n",
      "Epoch 74, CIFAR-10 Batch 1:  Cost:     0.0296, Accuracy: 0.755200\n",
      "Epoch 74, CIFAR-10 Batch 2:  Cost:     0.0320, Accuracy: 0.740200\n",
      "Epoch 74, CIFAR-10 Batch 3:  Cost:     0.0146, Accuracy: 0.757000\n",
      "Epoch 74, CIFAR-10 Batch 4:  Cost:     0.0231, Accuracy: 0.757200\n",
      "Epoch 74, CIFAR-10 Batch 5:  Cost:     0.0184, Accuracy: 0.755000\n",
      "Epoch 75, CIFAR-10 Batch 1:  Cost:     0.0235, Accuracy: 0.749200\n",
      "Epoch 75, CIFAR-10 Batch 2:  Cost:     0.0342, Accuracy: 0.751400\n",
      "Epoch 75, CIFAR-10 Batch 3:  Cost:     0.0173, Accuracy: 0.745400\n",
      "Epoch 75, CIFAR-10 Batch 4:  Cost:     0.0241, Accuracy: 0.758800\n",
      "Epoch 75, CIFAR-10 Batch 5:  Cost:     0.0192, Accuracy: 0.754800\n",
      "Epoch 76, CIFAR-10 Batch 1:  Cost:     0.0240, Accuracy: 0.745800\n",
      "Epoch 76, CIFAR-10 Batch 2:  Cost:     0.0329, Accuracy: 0.737400\n",
      "Epoch 76, CIFAR-10 Batch 3:  Cost:     0.0106, Accuracy: 0.756600\n",
      "Epoch 76, CIFAR-10 Batch 4:  Cost:     0.0278, Accuracy: 0.753000\n",
      "Epoch 76, CIFAR-10 Batch 5:  Cost:     0.0332, Accuracy: 0.746200\n",
      "Epoch 77, CIFAR-10 Batch 1:  Cost:     0.0237, Accuracy: 0.754600\n",
      "Epoch 77, CIFAR-10 Batch 2:  Cost:     0.0287, Accuracy: 0.753600\n",
      "Epoch 77, CIFAR-10 Batch 3:  Cost:     0.0092, Accuracy: 0.754800\n",
      "Epoch 77, CIFAR-10 Batch 4:  Cost:     0.0342, Accuracy: 0.750200\n",
      "Epoch 77, CIFAR-10 Batch 5:  Cost:     0.0205, Accuracy: 0.758600\n",
      "Epoch 78, CIFAR-10 Batch 1:  Cost:     0.0218, Accuracy: 0.750000\n",
      "Epoch 78, CIFAR-10 Batch 2:  Cost:     0.0294, Accuracy: 0.745800\n",
      "Epoch 78, CIFAR-10 Batch 3:  Cost:     0.0129, Accuracy: 0.754000\n",
      "Epoch 78, CIFAR-10 Batch 4:  Cost:     0.0306, Accuracy: 0.752800\n",
      "Epoch 78, CIFAR-10 Batch 5:  Cost:     0.0246, Accuracy: 0.755400\n",
      "Epoch 79, CIFAR-10 Batch 1:  Cost:     0.0245, Accuracy: 0.752600\n",
      "Epoch 79, CIFAR-10 Batch 2:  Cost:     0.0223, Accuracy: 0.751400\n",
      "Epoch 79, CIFAR-10 Batch 3:  Cost:     0.0084, Accuracy: 0.741800\n",
      "Epoch 79, CIFAR-10 Batch 4:  Cost:     0.0238, Accuracy: 0.753200\n",
      "Epoch 79, CIFAR-10 Batch 5:  Cost:     0.0205, Accuracy: 0.751000\n",
      "Epoch 80, CIFAR-10 Batch 1:  Cost:     0.0271, Accuracy: 0.743400\n",
      "Epoch 80, CIFAR-10 Batch 2:  Cost:     0.0375, Accuracy: 0.751400\n",
      "Epoch 80, CIFAR-10 Batch 3:  Cost:     0.0111, Accuracy: 0.740800\n",
      "Epoch 80, CIFAR-10 Batch 4:  Cost:     0.0151, Accuracy: 0.752000\n",
      "Epoch 80, CIFAR-10 Batch 5:  Cost:     0.0178, Accuracy: 0.751200\n",
      "Epoch 81, CIFAR-10 Batch 1:  Cost:     0.0169, Accuracy: 0.747200\n",
      "Epoch 81, CIFAR-10 Batch 2:  Cost:     0.0166, Accuracy: 0.752600\n",
      "Epoch 81, CIFAR-10 Batch 3:  Cost:     0.0113, Accuracy: 0.746800\n",
      "Epoch 81, CIFAR-10 Batch 4:  Cost:     0.0368, Accuracy: 0.757400\n",
      "Epoch 81, CIFAR-10 Batch 5:  Cost:     0.0296, Accuracy: 0.754400\n",
      "Epoch 82, CIFAR-10 Batch 1:  Cost:     0.0175, Accuracy: 0.754400\n",
      "Epoch 82, CIFAR-10 Batch 2:  Cost:     0.0261, Accuracy: 0.756000\n",
      "Epoch 82, CIFAR-10 Batch 3:  Cost:     0.0069, Accuracy: 0.752800\n",
      "Epoch 82, CIFAR-10 Batch 4:  Cost:     0.0249, Accuracy: 0.753800\n",
      "Epoch 82, CIFAR-10 Batch 5:  Cost:     0.0215, Accuracy: 0.756400\n",
      "Epoch 83, CIFAR-10 Batch 1:  Cost:     0.0160, Accuracy: 0.753800\n",
      "Epoch 83, CIFAR-10 Batch 2:  Cost:     0.0194, Accuracy: 0.755400\n",
      "Epoch 83, CIFAR-10 Batch 3:  Cost:     0.0112, Accuracy: 0.748600\n",
      "Epoch 83, CIFAR-10 Batch 4:  Cost:     0.0176, Accuracy: 0.762400\n",
      "Epoch 83, CIFAR-10 Batch 5:  Cost:     0.0185, Accuracy: 0.740200\n",
      "Epoch 84, CIFAR-10 Batch 1:  Cost:     0.0154, Accuracy: 0.751800\n",
      "Epoch 84, CIFAR-10 Batch 2:  Cost:     0.0143, Accuracy: 0.757800\n",
      "Epoch 84, CIFAR-10 Batch 3:  Cost:     0.0076, Accuracy: 0.751800\n",
      "Epoch 84, CIFAR-10 Batch 4:  Cost:     0.0138, Accuracy: 0.756400\n",
      "Epoch 84, CIFAR-10 Batch 5:  Cost:     0.0144, Accuracy: 0.746400\n",
      "Epoch 85, CIFAR-10 Batch 1:  Cost:     0.0134, Accuracy: 0.757400\n",
      "Epoch 85, CIFAR-10 Batch 2:  Cost:     0.0181, Accuracy: 0.756400\n",
      "Epoch 85, CIFAR-10 Batch 3:  Cost:     0.0090, Accuracy: 0.758400\n",
      "Epoch 85, CIFAR-10 Batch 4:  Cost:     0.0303, Accuracy: 0.747800\n",
      "Epoch 85, CIFAR-10 Batch 5:  Cost:     0.0291, Accuracy: 0.743000\n",
      "Epoch 86, CIFAR-10 Batch 1:  Cost:     0.0158, Accuracy: 0.757400\n",
      "Epoch 86, CIFAR-10 Batch 2:  Cost:     0.0186, Accuracy: 0.751000\n",
      "Epoch 86, CIFAR-10 Batch 3:  Cost:     0.0112, Accuracy: 0.754200\n",
      "Epoch 86, CIFAR-10 Batch 4:  Cost:     0.0126, Accuracy: 0.755800\n",
      "Epoch 86, CIFAR-10 Batch 5:  Cost:     0.0132, Accuracy: 0.755000\n",
      "Epoch 87, CIFAR-10 Batch 1:  Cost:     0.0154, Accuracy: 0.753200\n",
      "Epoch 87, CIFAR-10 Batch 2:  Cost:     0.0124, Accuracy: 0.754600\n",
      "Epoch 87, CIFAR-10 Batch 3:  Cost:     0.0069, Accuracy: 0.753200\n",
      "Epoch 87, CIFAR-10 Batch 4:  Cost:     0.0094, Accuracy: 0.753200\n",
      "Epoch 87, CIFAR-10 Batch 5:  Cost:     0.0070, Accuracy: 0.756600\n",
      "Epoch 88, CIFAR-10 Batch 1:  Cost:     0.0132, Accuracy: 0.756200\n",
      "Epoch 88, CIFAR-10 Batch 2:  Cost:     0.0176, Accuracy: 0.755400\n",
      "Epoch 88, CIFAR-10 Batch 3:  Cost:     0.0077, Accuracy: 0.747600\n",
      "Epoch 88, CIFAR-10 Batch 4:  Cost:     0.0064, Accuracy: 0.758400\n",
      "Epoch 88, CIFAR-10 Batch 5:  Cost:     0.0072, Accuracy: 0.753000\n",
      "Epoch 89, CIFAR-10 Batch 1:  Cost:     0.0182, Accuracy: 0.748200\n",
      "Epoch 89, CIFAR-10 Batch 2:  Cost:     0.0157, Accuracy: 0.754000\n",
      "Epoch 89, CIFAR-10 Batch 3:  Cost:     0.0087, Accuracy: 0.756000\n",
      "Epoch 89, CIFAR-10 Batch 4:  Cost:     0.0147, Accuracy: 0.753000\n",
      "Epoch 89, CIFAR-10 Batch 5:  Cost:     0.0102, Accuracy: 0.757400\n",
      "Epoch 90, CIFAR-10 Batch 1:  Cost:     0.0252, Accuracy: 0.748800\n",
      "Epoch 90, CIFAR-10 Batch 2:  Cost:     0.0152, Accuracy: 0.759600\n",
      "Epoch 90, CIFAR-10 Batch 3:  Cost:     0.0052, Accuracy: 0.748800\n",
      "Epoch 90, CIFAR-10 Batch 4:  Cost:     0.0095, Accuracy: 0.760800\n",
      "Epoch 90, CIFAR-10 Batch 5:  Cost:     0.0139, Accuracy: 0.748200\n",
      "Epoch 91, CIFAR-10 Batch 1:  Cost:     0.0169, Accuracy: 0.752600\n",
      "Epoch 91, CIFAR-10 Batch 2:  Cost:     0.0184, Accuracy: 0.744800\n",
      "Epoch 91, CIFAR-10 Batch 3:  Cost:     0.0060, Accuracy: 0.764200\n",
      "Epoch 91, CIFAR-10 Batch 4:  Cost:     0.0118, Accuracy: 0.761200\n",
      "Epoch 91, CIFAR-10 Batch 5:  Cost:     0.0120, Accuracy: 0.763600\n",
      "Epoch 92, CIFAR-10 Batch 1:  Cost:     0.0146, Accuracy: 0.748200\n",
      "Epoch 92, CIFAR-10 Batch 2:  Cost:     0.0112, Accuracy: 0.754600\n",
      "Epoch 92, CIFAR-10 Batch 3:  Cost:     0.0043, Accuracy: 0.756000\n",
      "Epoch 92, CIFAR-10 Batch 4:  Cost:     0.0095, Accuracy: 0.762600\n",
      "Epoch 92, CIFAR-10 Batch 5:  Cost:     0.0114, Accuracy: 0.760600\n",
      "Epoch 93, CIFAR-10 Batch 1:  Cost:     0.0125, Accuracy: 0.758800\n",
      "Epoch 93, CIFAR-10 Batch 2:  Cost:     0.0319, Accuracy: 0.764400\n",
      "Epoch 93, CIFAR-10 Batch 3:  Cost:     0.0047, Accuracy: 0.754200\n",
      "Epoch 93, CIFAR-10 Batch 4:  Cost:     0.0062, Accuracy: 0.759600\n",
      "Epoch 93, CIFAR-10 Batch 5:  Cost:     0.0092, Accuracy: 0.754400\n",
      "Epoch 94, CIFAR-10 Batch 1:  Cost:     0.0209, Accuracy: 0.752400\n",
      "Epoch 94, CIFAR-10 Batch 2:  Cost:     0.0107, Accuracy: 0.760000\n",
      "Epoch 94, CIFAR-10 Batch 3:  Cost:     0.0039, Accuracy: 0.749400\n",
      "Epoch 94, CIFAR-10 Batch 4:  Cost:     0.0137, Accuracy: 0.757800\n",
      "Epoch 94, CIFAR-10 Batch 5:  Cost:     0.0098, Accuracy: 0.754600\n",
      "Epoch 95, CIFAR-10 Batch 1:  Cost:     0.0097, Accuracy: 0.761400\n",
      "Epoch 95, CIFAR-10 Batch 2:  Cost:     0.0151, Accuracy: 0.756000\n",
      "Epoch 95, CIFAR-10 Batch 3:  Cost:     0.0059, Accuracy: 0.755600\n",
      "Epoch 95, CIFAR-10 Batch 4:  Cost:     0.0096, Accuracy: 0.758800\n",
      "Epoch 95, CIFAR-10 Batch 5:  Cost:     0.0118, Accuracy: 0.756800\n",
      "Epoch 96, CIFAR-10 Batch 1:  Cost:     0.0145, Accuracy: 0.756800\n",
      "Epoch 96, CIFAR-10 Batch 2:  Cost:     0.0084, Accuracy: 0.757400\n",
      "Epoch 96, CIFAR-10 Batch 3:  Cost:     0.0069, Accuracy: 0.741200\n",
      "Epoch 96, CIFAR-10 Batch 4:  Cost:     0.0300, Accuracy: 0.756800\n",
      "Epoch 96, CIFAR-10 Batch 5:  Cost:     0.0078, Accuracy: 0.761800\n",
      "Epoch 97, CIFAR-10 Batch 1:  Cost:     0.0168, Accuracy: 0.748200\n",
      "Epoch 97, CIFAR-10 Batch 2:  Cost:     0.0179, Accuracy: 0.753200\n",
      "Epoch 97, CIFAR-10 Batch 3:  Cost:     0.0047, Accuracy: 0.757400\n",
      "Epoch 97, CIFAR-10 Batch 4:  Cost:     0.0136, Accuracy: 0.760000\n",
      "Epoch 97, CIFAR-10 Batch 5:  Cost:     0.0096, Accuracy: 0.757000\n",
      "Epoch 98, CIFAR-10 Batch 1:  Cost:     0.0106, Accuracy: 0.751800\n",
      "Epoch 98, CIFAR-10 Batch 2:  Cost:     0.0113, Accuracy: 0.760200\n",
      "Epoch 98, CIFAR-10 Batch 3:  Cost:     0.0062, Accuracy: 0.757600\n",
      "Epoch 98, CIFAR-10 Batch 4:  Cost:     0.0267, Accuracy: 0.758800\n",
      "Epoch 98, CIFAR-10 Batch 5:  Cost:     0.0101, Accuracy: 0.760400\n",
      "Epoch 99, CIFAR-10 Batch 1:  Cost:     0.0109, Accuracy: 0.752200\n",
      "Epoch 99, CIFAR-10 Batch 2:  Cost:     0.0103, Accuracy: 0.758200\n",
      "Epoch 99, CIFAR-10 Batch 3:  Cost:     0.0034, Accuracy: 0.754800\n",
      "Epoch 99, CIFAR-10 Batch 4:  Cost:     0.0098, Accuracy: 0.762000\n",
      "Epoch 99, CIFAR-10 Batch 5:  Cost:     0.0078, Accuracy: 0.758000\n",
      "Epoch 100, CIFAR-10 Batch 1:  Cost:     0.0063, Accuracy: 0.759600\n",
      "Epoch 100, CIFAR-10 Batch 2:  Cost:     0.0095, Accuracy: 0.754800\n",
      "Epoch 100, CIFAR-10 Batch 3:  Cost:     0.0035, Accuracy: 0.761200\n",
      "Epoch 100, CIFAR-10 Batch 4:  Cost:     0.0101, Accuracy: 0.757000\n",
      "Epoch 100, CIFAR-10 Batch 5:  Cost:     0.0082, Accuracy: 0.754800\n"
     ]
    }
   ],
   "source": [
    "\"\"\"\n",
    "DON'T MODIFY ANYTHING IN THIS CELL\n",
    "\"\"\"\n",
    "save_model_path = './image_classification'\n",
    "\n",
    "print('Training...')\n",
    "with tf.Session() as sess:\n",
    "    # Initializing the variables\n",
    "    sess.run(tf.global_variables_initializer())\n",
    "    \n",
    "    # Training cycle\n",
    "    for epoch in range(epochs):\n",
    "        # Loop over all batches\n",
    "        n_batches = 5\n",
    "        for batch_i in range(1, n_batches + 1):\n",
    "            for batch_features, batch_labels in helper.load_preprocess_training_batch(batch_i, batch_size):\n",
    "                train_neural_network(sess, optimizer, keep_probability, batch_features, batch_labels)\n",
    "            print('Epoch {:>2}, CIFAR-10 Batch {}:  '.format(epoch + 1, batch_i), end='')\n",
    "            print_stats(sess, batch_features, batch_labels, cost, accuracy)\n",
    "            \n",
    "    # Save Model\n",
    "    saver = tf.train.Saver()\n",
    "    save_path = saver.save(sess, save_model_path)"
   ]
  },
  {
   "cell_type": "markdown",
   "metadata": {
    "deletable": true,
    "editable": true
   },
   "source": [
    "# Checkpoint\n",
    "The model has been saved to disk.\n",
    "## Test Model\n",
    "Test your model against the test dataset.  This will be your final accuracy. You should have an accuracy greater than 50%. If you don't, keep tweaking the model architecture and parameters."
   ]
  },
  {
   "cell_type": "code",
   "execution_count": 20,
   "metadata": {
    "collapsed": false,
    "deletable": true,
    "editable": true
   },
   "outputs": [
    {
     "name": "stdout",
     "output_type": "stream",
     "text": [
      "Testing Accuracy: 0.7517800632911392\n",
      "\n"
     ]
    },
    {
     "data": {
      "image/png": "[encoded data removed]",
      "text/plain": [
       "<matplotlib.figure.Figure at 0x7f1bba05d9b0>"
      ]
     },
     "metadata": {
      "image/png": {
       "height": 319,
       "width": 355
      }
     },
     "output_type": "display_data"
    }
   ],
   "source": [
    "\"\"\"\n",
    "DON'T MODIFY ANYTHING IN THIS CELL\n",
    "\"\"\"\n",
    "%matplotlib inline\n",
    "%config InlineBackend.figure_format = 'retina'\n",
    "\n",
    "import tensorflow as tf\n",
    "import pickle\n",
    "import helper\n",
    "import random\n",
    "\n",
    "# Set batch size if not already set\n",
    "try:\n",
    "    if batch_size:\n",
    "        pass\n",
    "except NameError:\n",
    "    batch_size = 64\n",
    "\n",
    "save_model_path = './image_classification'\n",
    "n_samples = 4\n",
    "top_n_predictions = 3\n",
    "\n",
    "def test_model():\n",
    "    \"\"\"\n",
    "    Test the saved model against the test dataset\n",
    "    \"\"\"\n",
    "\n",
    "    test_features, test_labels = pickle.load(open('preprocess_training.p', mode='rb'))\n",
    "    loaded_graph = tf.Graph()\n",
    "\n",
    "    with tf.Session(graph=loaded_graph) as sess:\n",
    "        # Load model\n",
    "        loader = tf.train.import_meta_graph(save_model_path + '.meta')\n",
    "        loader.restore(sess, save_model_path)\n",
    "\n",
    "        # Get Tensors from loaded model\n",
    "        loaded_x = loaded_graph.get_tensor_by_name('x:0')\n",
    "        loaded_y = loaded_graph.get_tensor_by_name('y:0')\n",
    "        loaded_keep_prob = loaded_graph.get_tensor_by_name('keep_prob:0')\n",
    "        loaded_logits = loaded_graph.get_tensor_by_name('logits:0')\n",
    "        loaded_acc = loaded_graph.get_tensor_by_name('accuracy:0')\n",
    "        \n",
    "        # Get accuracy in batches for memory limitations\n",
    "        test_batch_acc_total = 0\n",
    "        test_batch_count = 0\n",
    "        \n",
    "        for train_feature_batch, train_label_batch in helper.batch_features_labels(test_features, test_labels, batch_size):\n",
    "            test_batch_acc_total += sess.run(\n",
    "                loaded_acc,\n",
    "                feed_dict={loaded_x: train_feature_batch, loaded_y: train_label_batch, loaded_keep_prob: 1.0})\n",
    "            test_batch_count += 1\n",
    "\n",
    "        print('Testing Accuracy: {}\\n'.format(test_batch_acc_total/test_batch_count))\n",
    "\n",
    "        # Print Random Samples\n",
    "        random_test_features, random_test_labels = tuple(zip(*random.sample(list(zip(test_features, test_labels)), n_samples)))\n",
    "        random_test_predictions = sess.run(\n",
    "            tf.nn.top_k(tf.nn.softmax(loaded_logits), top_n_predictions),\n",
    "            feed_dict={loaded_x: random_test_features, loaded_y: random_test_labels, loaded_keep_prob: 1.0})\n",
    "        helper.display_image_predictions(random_test_features, random_test_labels, random_test_predictions)\n",
    "\n",
    "\n",
    "test_model()"
   ]
  },
  {
   "cell_type": "markdown",
   "metadata": {
    "deletable": true,
    "editable": true
   },
   "source": [
    "## Why 50-70% Accuracy?\n",
    "You might be wondering why you can't get an accuracy any higher. First things first, 50% isn't bad for a simple CNN.  Pure guessing would get you 10% accuracy. However, you might notice people are getting scores [well above 70%](http://rodrigob.github.io/are_we_there_yet/build/classification_datasets_results.html#43494641522d3130).  That's because we haven't taught you all there is to know about neural networks. We still need to cover a few more techniques.\n",
    "## Submitting This Project\n",
    "When submitting this project, make sure to run all the cells before saving the notebook.  Save the notebook file as \"dlnd_image_classification.ipynb\" and save it as a HTML file under \"File\" -> \"Download as\".  Include the \"helper.py\" and \"problem_unittests.py\" files in your submission."
   ]
  }
 ],
 "metadata": {
  "kernelspec": {
   "display_name": "Python 3",
   "language": "python",
   "name": "python3"
  },
  "language_info": {
   "codemirror_mode": {
    "name": "ipython",
    "version": 3
   },
   "file_extension": ".py",
   "mimetype": "text/x-python",
   "name": "python",
   "nbconvert_exporter": "python",
   "pygments_lexer": "ipython3",
   "version": "3.5.2"
  },
  "widgets": {
   "state": {},
   "version": "1.1.2"
  }
 },
 "nbformat": 4,
 "nbformat_minor": 0
}
